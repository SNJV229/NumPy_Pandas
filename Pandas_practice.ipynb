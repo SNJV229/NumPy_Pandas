{
 "cells": [
  {
   "cell_type": "code",
   "execution_count": 1,
   "metadata": {},
   "outputs": [],
   "source": [
    "path = 'snv.txt'\n",
    "f=open(path)"
   ]
  },
  {
   "cell_type": "code",
   "execution_count": 3,
   "metadata": {},
   "outputs": [],
   "source": [
    "with open(path) as f:\n",
    "    lines = [x.rstrip() for x in f]"
   ]
  },
  {
   "cell_type": "code",
   "execution_count": 4,
   "metadata": {},
   "outputs": [
    {
     "data": {
      "text/plain": [
       "['#define IOS ios::sync_with_stdio(0); cin.tie(0); cout.tie(0);',\n",
       " '#define endl \"\\\\n\"',\n",
       " '#define int long long',\n",
       " '',\n",
       " 'const int N = 1e5 + 5;',\n",
       " '',\n",
       " 'int n, b;',\n",
       " 'int a[N];',\n",
       " 'int ans = 0;',\n",
       " '',\n",
       " 'int32_t main()',\n",
       " '{',\n",
       " '\\tIOS;',\n",
       " '\\tint t;',\n",
       " '\\tcin >> t;',\n",
       " '\\tint tc = 0;',\n",
       " '\\twhile(t--)',\n",
       " '\\t{',\n",
       " '\\t\\ttc++;',\n",
       " '\\t\\tcin >> n >> b;',\n",
       " '\\t\\tfor(int i = 1; i <= n; i++)',\n",
       " '\\t\\t\\tcin >> a[i];',\n",
       " '\\t\\tsort(a + 1, a + n + 1);',\n",
       " '\\t\\tans = 0;',\n",
       " '\\t\\tfor(int i = 1; i <= n; i++)',\n",
       " '\\t\\t{',\n",
       " '\\t\\t\\tif(a[i] <= b)',\n",
       " '\\t\\t\\t{',\n",
       " '\\t\\t\\t\\tans++;',\n",
       " '\\t\\t\\t\\tb -= a[i];',\n",
       " '\\t\\t\\t}',\n",
       " '\\t\\t}',\n",
       " '\\t\\tcout << \"Case #\" << tc << \": \" << ans << endl;',\n",
       " ' \\t}',\n",
       " '\\treturn 0;',\n",
       " '}']"
      ]
     },
     "execution_count": 4,
     "metadata": {},
     "output_type": "execute_result"
    }
   ],
   "source": [
    "lines"
   ]
  },
  {
   "cell_type": "code",
   "execution_count": 6,
   "metadata": {},
   "outputs": [
    {
     "data": {
      "text/plain": [
       "'#define IO'"
      ]
     },
     "execution_count": 6,
     "metadata": {},
     "output_type": "execute_result"
    }
   ],
   "source": [
    "f=open(path)\n",
    "f.read(10)"
   ]
  },
  {
   "cell_type": "code",
   "execution_count": 10,
   "metadata": {},
   "outputs": [
    {
     "ename": "ValueError",
     "evalue": "I/O operation on closed file.",
     "output_type": "error",
     "traceback": [
      "\u001b[1;31m---------------------------------------------------------------------------\u001b[0m",
      "\u001b[1;31mValueError\u001b[0m                                Traceback (most recent call last)",
      "\u001b[1;32m<ipython-input-10-ad9d0cbd464a>\u001b[0m in \u001b[0;36m<module>\u001b[1;34m\u001b[0m\n\u001b[0;32m      1\u001b[0m \u001b[0mf2\u001b[0m\u001b[1;33m=\u001b[0m\u001b[0mopen\u001b[0m\u001b[1;33m(\u001b[0m\u001b[0mpath\u001b[0m\u001b[1;33m,\u001b[0m\u001b[1;34m'rb'\u001b[0m\u001b[1;33m)\u001b[0m\u001b[1;33m\u001b[0m\u001b[1;33m\u001b[0m\u001b[0m\n\u001b[0;32m      2\u001b[0m \u001b[0mf2\u001b[0m\u001b[1;33m.\u001b[0m\u001b[0mread\u001b[0m\u001b[1;33m(\u001b[0m\u001b[1;36m10\u001b[0m\u001b[1;33m)\u001b[0m\u001b[1;33m\u001b[0m\u001b[1;33m\u001b[0m\u001b[0m\n\u001b[1;32m----> 3\u001b[1;33m \u001b[0mf\u001b[0m\u001b[1;33m.\u001b[0m\u001b[0mtell\u001b[0m\u001b[1;33m(\u001b[0m\u001b[1;33m)\u001b[0m\u001b[1;33m\u001b[0m\u001b[1;33m\u001b[0m\u001b[0m\n\u001b[0m\u001b[0;32m      4\u001b[0m \u001b[0mf\u001b[0m\u001b[1;33m.\u001b[0m\u001b[0mclose\u001b[0m\u001b[1;33m(\u001b[0m\u001b[1;33m)\u001b[0m\u001b[1;33m\u001b[0m\u001b[1;33m\u001b[0m\u001b[0m\n",
      "\u001b[1;31mValueError\u001b[0m: I/O operation on closed file."
     ]
    }
   ],
   "source": [
    "f2=open(path,'rb')\n",
    "f2.read(10)\n",
    "f.tell()\n",
    "f.close()\n"
   ]
  },
  {
   "cell_type": "code",
   "execution_count": 12,
   "metadata": {},
   "outputs": [],
   "source": [
    "with open('tem.txt','w') as handle:\n",
    "    handle.writelines(x for x in open(path) if len(x)>1 )"
   ]
  },
  {
   "cell_type": "code",
   "execution_count": 13,
   "metadata": {},
   "outputs": [
    {
     "data": {
      "text/plain": [
       "['#define IOS ios::sync_with_stdio(0); cin.tie(0); cout.tie(0);\\n',\n",
       " '#define endl \"\\\\n\"\\n',\n",
       " '#define int long long\\n',\n",
       " 'const int N = 1e5 + 5;\\n',\n",
       " 'int n, b;\\n',\n",
       " 'int a[N];\\n',\n",
       " 'int ans = 0;\\n',\n",
       " 'int32_t main()\\n',\n",
       " '{\\n',\n",
       " '\\tIOS;\\n',\n",
       " '\\tint t;\\n',\n",
       " '\\tcin >> t;\\n',\n",
       " '\\tint tc = 0; \\n',\n",
       " '\\twhile(t--)\\n',\n",
       " '\\t{\\n',\n",
       " '\\t\\ttc++;\\n',\n",
       " '\\t\\tcin >> n >> b;\\n',\n",
       " '\\t\\tfor(int i = 1; i <= n; i++)\\n',\n",
       " '\\t\\t\\tcin >> a[i];\\n',\n",
       " '\\t\\tsort(a + 1, a + n + 1);\\n',\n",
       " '\\t\\tans = 0;\\n',\n",
       " '\\t\\tfor(int i = 1; i <= n; i++)\\n',\n",
       " '\\t\\t{\\n',\n",
       " '\\t\\t\\tif(a[i] <= b)\\n',\n",
       " '\\t\\t\\t{\\n',\n",
       " '\\t\\t\\t\\tans++;\\n',\n",
       " '\\t\\t\\t\\tb -= a[i];\\n',\n",
       " '\\t\\t\\t}\\n',\n",
       " '\\t\\t}\\n',\n",
       " '\\t\\tcout << \"Case #\" << tc << \": \" << ans << endl;\\n',\n",
       " ' \\t}\\t\\n',\n",
       " '\\treturn 0;\\n']"
      ]
     },
     "execution_count": 13,
     "metadata": {},
     "output_type": "execute_result"
    }
   ],
   "source": [
    "with open('tem.txt') as f:\n",
    "    lines = f.readlines()\n",
    "lines"
   ]
  },
  {
   "cell_type": "code",
   "execution_count": 14,
   "metadata": {},
   "outputs": [],
   "source": [
    "f.close()"
   ]
  },
  {
   "cell_type": "code",
   "execution_count": 15,
   "metadata": {},
   "outputs": [
    {
     "ename": "ValueError",
     "evalue": "I/O operation on closed file.",
     "output_type": "error",
     "traceback": [
      "\u001b[1;31m---------------------------------------------------------------------------\u001b[0m",
      "\u001b[1;31mValueError\u001b[0m                                Traceback (most recent call last)",
      "\u001b[1;32m<ipython-input-15-3c1a8772273a>\u001b[0m in \u001b[0;36m<module>\u001b[1;34m\u001b[0m\n\u001b[1;32m----> 1\u001b[1;33m \u001b[0mf\u001b[0m\u001b[1;33m.\u001b[0m\u001b[0mtell\u001b[0m\u001b[1;33m(\u001b[0m\u001b[1;33m)\u001b[0m\u001b[1;33m\u001b[0m\u001b[1;33m\u001b[0m\u001b[0m\n\u001b[0m",
      "\u001b[1;31mValueError\u001b[0m: I/O operation on closed file."
     ]
    }
   ],
   "source": [
    "f.tell()"
   ]
  },
  {
   "cell_type": "code",
   "execution_count": 16,
   "metadata": {},
   "outputs": [
    {
     "data": {
      "text/plain": [
       "'#define IO'"
      ]
     },
     "execution_count": 16,
     "metadata": {},
     "output_type": "execute_result"
    }
   ],
   "source": [
    "with open(path) as f:\n",
    "    chars = f.read(10)\n",
    "chars"
   ]
  },
  {
   "cell_type": "code",
   "execution_count": 17,
   "metadata": {},
   "outputs": [
    {
     "ename": "ValueError",
     "evalue": "I/O operation on closed file.",
     "output_type": "error",
     "traceback": [
      "\u001b[1;31m---------------------------------------------------------------------------\u001b[0m",
      "\u001b[1;31mValueError\u001b[0m                                Traceback (most recent call last)",
      "\u001b[1;32m<ipython-input-17-3c1a8772273a>\u001b[0m in \u001b[0;36m<module>\u001b[1;34m\u001b[0m\n\u001b[1;32m----> 1\u001b[1;33m \u001b[0mf\u001b[0m\u001b[1;33m.\u001b[0m\u001b[0mtell\u001b[0m\u001b[1;33m(\u001b[0m\u001b[1;33m)\u001b[0m\u001b[1;33m\u001b[0m\u001b[1;33m\u001b[0m\u001b[0m\n\u001b[0m",
      "\u001b[1;31mValueError\u001b[0m: I/O operation on closed file."
     ]
    }
   ],
   "source": [
    "f.tell()"
   ]
  },
  {
   "cell_type": "code",
   "execution_count": 1,
   "metadata": {},
   "outputs": [],
   "source": [
    "import numpy as np\n",
    "data=np.random.randn(2,3)    # to take Random data in shape of 2*3 matrix"
   ]
  },
  {
   "cell_type": "code",
   "execution_count": 2,
   "metadata": {},
   "outputs": [
    {
     "data": {
      "text/plain": [
       "array([[-0.49419411, -0.05897454,  0.39302917],\n",
       "       [-1.22558845,  1.03926614, -2.25067032]])"
      ]
     },
     "execution_count": 2,
     "metadata": {},
     "output_type": "execute_result"
    }
   ],
   "source": [
    "data   # to print the data"
   ]
  },
  {
   "cell_type": "markdown",
   "metadata": {},
   "source": [
    "# Some data manupulation Like multiplication and adition"
   ]
  },
  {
   "cell_type": "code",
   "execution_count": 3,
   "metadata": {},
   "outputs": [
    {
     "data": {
      "text/plain": [
       "array([[ -4.94194106,  -0.58974538,   3.93029174],\n",
       "       [-12.25588452,  10.39266138, -22.50670317]])"
      ]
     },
     "execution_count": 3,
     "metadata": {},
     "output_type": "execute_result"
    }
   ],
   "source": [
    "data*10   "
   ]
  },
  {
   "cell_type": "code",
   "execution_count": 4,
   "metadata": {},
   "outputs": [
    {
     "data": {
      "text/plain": [
       "array([[-0.98838821, -0.11794908,  0.78605835],\n",
       "       [-2.4511769 ,  2.07853228, -4.50134063]])"
      ]
     },
     "execution_count": 4,
     "metadata": {},
     "output_type": "execute_result"
    }
   ],
   "source": [
    "data+data"
   ]
  },
  {
   "cell_type": "code",
   "execution_count": 6,
   "metadata": {},
   "outputs": [
    {
     "data": {
      "text/plain": [
       "(2, 3)"
      ]
     },
     "execution_count": 6,
     "metadata": {},
     "output_type": "execute_result"
    }
   ],
   "source": [
    "data.shape # To get the shape"
   ]
  },
  {
   "cell_type": "code",
   "execution_count": 7,
   "metadata": {},
   "outputs": [],
   "source": [
    "data=[35,56,-78,0,1]\n",
    "arr1=np.array(data)"
   ]
  },
  {
   "cell_type": "code",
   "execution_count": 8,
   "metadata": {},
   "outputs": [
    {
     "data": {
      "text/plain": [
       "array([ 35,  56, -78,   0,   1])"
      ]
     },
     "execution_count": 8,
     "metadata": {},
     "output_type": "execute_result"
    }
   ],
   "source": [
    "arr1"
   ]
  },
  {
   "cell_type": "code",
   "execution_count": 13,
   "metadata": {},
   "outputs": [
    {
     "data": {
      "text/plain": [
       "dtype('int32')"
      ]
     },
     "execution_count": 13,
     "metadata": {},
     "output_type": "execute_result"
    }
   ],
   "source": [
    "arr1.dtype  # TO get array's data type."
   ]
  },
  {
   "cell_type": "code",
   "execution_count": 14,
   "metadata": {},
   "outputs": [],
   "source": [
    "data2 = [[5,2,3],[6,7,8]]\n",
    "arr2=np.array(data2)"
   ]
  },
  {
   "cell_type": "code",
   "execution_count": 15,
   "metadata": {},
   "outputs": [
    {
     "data": {
      "text/plain": [
       "array([[5, 2, 3],\n",
       "       [6, 7, 8]])"
      ]
     },
     "execution_count": 15,
     "metadata": {},
     "output_type": "execute_result"
    }
   ],
   "source": [
    "arr2   "
   ]
  },
  {
   "cell_type": "code",
   "execution_count": 17,
   "metadata": {},
   "outputs": [
    {
     "data": {
      "text/plain": [
       "(2, 3)"
      ]
     },
     "execution_count": 17,
     "metadata": {},
     "output_type": "execute_result"
    }
   ],
   "source": [
    "arr2.shape   #To get shape of the array"
   ]
  },
  {
   "cell_type": "code",
   "execution_count": 18,
   "metadata": {},
   "outputs": [
    {
     "data": {
      "text/plain": [
       "2"
      ]
     },
     "execution_count": 18,
     "metadata": {},
     "output_type": "execute_result"
    }
   ],
   "source": [
    "arr2.ndim    #ndim for ROw and mdin for Column"
   ]
  },
  {
   "cell_type": "code",
   "execution_count": 20,
   "metadata": {},
   "outputs": [],
   "source": [
    "nmaes = np.array(['bob','joe','will','bob', 'will','joe','joe'])\n",
    "data = np.random.randn(7,5)"
   ]
  },
  {
   "cell_type": "code",
   "execution_count": 22,
   "metadata": {},
   "outputs": [
    {
     "data": {
      "text/plain": [
       "array([ True, False, False,  True, False, False, False])"
      ]
     },
     "execution_count": 22,
     "metadata": {},
     "output_type": "execute_result"
    }
   ],
   "source": [
    "nmaes == 'bob'   #Search operation for bob returns Boolean value"
   ]
  },
  {
   "cell_type": "code",
   "execution_count": 23,
   "metadata": {},
   "outputs": [
    {
     "data": {
      "text/plain": [
       "array([[-0.42077165, -0.1531577 , -0.5294606 , -0.37023806,  1.56869897],\n",
       "       [-0.37874381,  0.85146409,  0.30941993,  0.14870816, -0.08042492]])"
      ]
     },
     "execution_count": 23,
     "metadata": {},
     "output_type": "execute_result"
    }
   ],
   "source": [
    "data[nmaes == 'bob']"
   ]
  },
  {
   "cell_type": "code",
   "execution_count": 25,
   "metadata": {},
   "outputs": [
    {
     "data": {
      "text/plain": [
       "array([[-0.37023806,  1.56869897],\n",
       "       [ 0.14870816, -0.08042492]])"
      ]
     },
     "execution_count": 25,
     "metadata": {},
     "output_type": "execute_result"
    }
   ],
   "source": [
    "data[nmaes == 'bob', 3:]"
   ]
  },
  {
   "cell_type": "code",
   "execution_count": 26,
   "metadata": {},
   "outputs": [
    {
     "data": {
      "text/plain": [
       "array([[ 0.93541061, -2.03664806, -1.18379519,  0.3308922 ,  1.84555588],\n",
       "       [ 0.5331451 , -0.37226585,  0.78109912, -1.9433768 ,  0.69933306],\n",
       "       [ 0.78836646,  0.7287211 ,  1.47488475,  0.45399643,  1.00551957],\n",
       "       [ 0.04049732,  0.0563805 , -0.03073127,  0.64208402,  1.12999079],\n",
       "       [-1.37978465,  0.63305298, -2.00123666, -0.24141799, -0.4904444 ]])"
      ]
     },
     "execution_count": 26,
     "metadata": {},
     "output_type": "execute_result"
    }
   ],
   "source": [
    "data[~(nmaes == 'bob')]"
   ]
  },
  {
   "cell_type": "code",
   "execution_count": 28,
   "metadata": {},
   "outputs": [],
   "source": [
    "data[nmaes=='joe']=7    # Replacing values of JOE with 7"
   ]
  },
  {
   "cell_type": "code",
   "execution_count": 29,
   "metadata": {},
   "outputs": [
    {
     "data": {
      "text/plain": [
       "array([[-0.42077165, -0.1531577 , -0.5294606 , -0.37023806,  1.56869897],\n",
       "       [ 7.        ,  7.        ,  7.        ,  7.        ,  7.        ],\n",
       "       [ 0.5331451 , -0.37226585,  0.78109912, -1.9433768 ,  0.69933306],\n",
       "       [-0.37874381,  0.85146409,  0.30941993,  0.14870816, -0.08042492],\n",
       "       [ 0.78836646,  0.7287211 ,  1.47488475,  0.45399643,  1.00551957],\n",
       "       [ 7.        ,  7.        ,  7.        ,  7.        ,  7.        ],\n",
       "       [ 7.        ,  7.        ,  7.        ,  7.        ,  7.        ]])"
      ]
     },
     "execution_count": 29,
     "metadata": {},
     "output_type": "execute_result"
    }
   ],
   "source": [
    "data    #printing data"
   ]
  },
  {
   "cell_type": "code",
   "execution_count": 35,
   "metadata": {},
   "outputs": [],
   "source": [
    "arr = np.empty((8, 4))\n",
    "for i in range (8):\n",
    "    for j in range (4):\n",
    "        arr[i][j]=j"
   ]
  },
  {
   "cell_type": "code",
   "execution_count": 36,
   "metadata": {},
   "outputs": [
    {
     "data": {
      "text/plain": [
       "array([[0., 1., 2., 3.],\n",
       "       [0., 1., 2., 3.],\n",
       "       [0., 1., 2., 3.],\n",
       "       [0., 1., 2., 3.],\n",
       "       [0., 1., 2., 3.],\n",
       "       [0., 1., 2., 3.],\n",
       "       [0., 1., 2., 3.],\n",
       "       [0., 1., 2., 3.]])"
      ]
     },
     "execution_count": 36,
     "metadata": {},
     "output_type": "execute_result"
    }
   ],
   "source": [
    "arr"
   ]
  },
  {
   "cell_type": "code",
   "execution_count": 38,
   "metadata": {},
   "outputs": [],
   "source": [
    "arr=np.arange(15).reshape((3,5))    #reshape is use to give shape according to your preference."
   ]
  },
  {
   "cell_type": "code",
   "execution_count": 39,
   "metadata": {},
   "outputs": [
    {
     "data": {
      "text/plain": [
       "array([[ 0,  1,  2,  3,  4],\n",
       "       [ 5,  6,  7,  8,  9],\n",
       "       [10, 11, 12, 13, 14]])"
      ]
     },
     "execution_count": 39,
     "metadata": {},
     "output_type": "execute_result"
    }
   ],
   "source": [
    "arr"
   ]
  },
  {
   "cell_type": "code",
   "execution_count": 40,
   "metadata": {},
   "outputs": [
    {
     "data": {
      "text/plain": [
       "array([[ 0,  5, 10],\n",
       "       [ 1,  6, 11],\n",
       "       [ 2,  7, 12],\n",
       "       [ 3,  8, 13],\n",
       "       [ 4,  9, 14]])"
      ]
     },
     "execution_count": 40,
     "metadata": {},
     "output_type": "execute_result"
    }
   ],
   "source": [
    "arr.T  #Transpose of data array"
   ]
  },
  {
   "cell_type": "code",
   "execution_count": 41,
   "metadata": {},
   "outputs": [
    {
     "data": {
      "text/plain": [
       "array([[125, 140, 155, 170, 185],\n",
       "       [140, 158, 176, 194, 212],\n",
       "       [155, 176, 197, 218, 239],\n",
       "       [170, 194, 218, 242, 266],\n",
       "       [185, 212, 239, 266, 293]])"
      ]
     },
     "execution_count": 41,
     "metadata": {},
     "output_type": "execute_result"
    }
   ],
   "source": [
    "np.dot(arr.T,arr)   # Dot product of array and transpose of the array"
   ]
  },
  {
   "cell_type": "code",
   "execution_count": 42,
   "metadata": {},
   "outputs": [],
   "source": [
    "points = np.arange(-5, 5, 0.01)"
   ]
  },
  {
   "cell_type": "code",
   "execution_count": 43,
   "metadata": {},
   "outputs": [],
   "source": [
    "xs,ys = np.meshgrid(points,points)"
   ]
  },
  {
   "cell_type": "code",
   "execution_count": 51,
   "metadata": {},
   "outputs": [],
   "source": [
    "z=np.sqrt(xs**2 + ys**2)"
   ]
  },
  {
   "cell_type": "code",
   "execution_count": 53,
   "metadata": {},
   "outputs": [
    {
     "data": {
      "text/plain": [
       "Text(0.5, 1.0, 'image plotof$\\\\sqrt{x^2 + y^3}$ for a grid of values')"
      ]
     },
     "execution_count": 53,
     "metadata": {},
     "output_type": "execute_result"
    },
    {
     "data": {
      "image/png": "[encoded data removed]",
      "text/plain": [
       "<Figure size 432x288 with 2 Axes>"
      ]
     },
     "metadata": {
      "needs_background": "light"
     },
     "output_type": "display_data"
    }
   ],
   "source": [
    "import matplotlib.pyplot as plt\n",
    "plt.imshow(z, cmap='jet');plt.colorbar()\n",
    "plt.title(\"Image plotof$\\sqrt{x^2 + y^2}$ for \n",
    "          a grid of values\")"
   ]
  },
  {
   "cell_type": "code",
   "execution_count": 2,
   "metadata": {},
   "outputs": [
    {
     "name": "stdout",
     "output_type": "stream",
     "text": [
      "[[ 1  3  5  7  9]\n",
      " [11 13 15 17 19]\n",
      " [21 23 25 27 29]]\n"
     ]
    }
   ],
   "source": [
    "import numpy as np\n",
    "b=np.arange(1,31,2).reshape(3,5)\n",
    "print(b)"
   ]
  },
  {
   "cell_type": "code",
   "execution_count": 3,
   "metadata": {},
   "outputs": [
    {
     "data": {
      "text/plain": [
       "array([[ 1, 11, 21],\n",
       "       [ 3, 13, 23],\n",
       "       [ 5, 15, 25],\n",
       "       [ 7, 17, 27],\n",
       "       [ 9, 19, 29]])"
      ]
     },
     "execution_count": 3,
     "metadata": {},
     "output_type": "execute_result"
    }
   ],
   "source": [
    "b.T"
   ]
  },
  {
   "cell_type": "code",
   "execution_count": 4,
   "metadata": {},
   "outputs": [
    {
     "data": {
      "image/png": "[encoded data removed]",
      "text/plain": [
       "<PIL.JpegImagePlugin.JpegImageFile image mode=RGB size=420x542 at 0x1D6A9A7F400>"
      ]
     },
     "metadata": {},
     "output_type": "display_data"
    }
   ],
   "source": [
    "from PIL import Image\n",
    "from IPython.display import display\n",
    "im = Image.open('photo 20 kb.jpeg')\n",
    "display(im)"
   ]
  },
  {
   "cell_type": "code",
   "execution_count": 6,
   "metadata": {},
   "outputs": [
    {
     "name": "stdout",
     "output_type": "stream",
     "text": [
      "(542, 420, 3)\n"
     ]
    },
    {
     "data": {
      "text/plain": [
       "array([[[209, 214, 218],\n",
       "        [212, 217, 221],\n",
       "        [215, 220, 224],\n",
       "        ...,\n",
       "        [142, 147, 151],\n",
       "        [140, 145, 149],\n",
       "        [139, 144, 148]],\n",
       "\n",
       "       [[212, 217, 221],\n",
       "        [215, 220, 224],\n",
       "        [219, 224, 228],\n",
       "        ...,\n",
       "        [196, 201, 205],\n",
       "        [194, 199, 203],\n",
       "        [193, 198, 202]],\n",
       "\n",
       "       [[216, 221, 225],\n",
       "        [219, 224, 228],\n",
       "        [222, 227, 231],\n",
       "        ...,\n",
       "        [209, 214, 218],\n",
       "        [207, 212, 216],\n",
       "        [205, 210, 214]],\n",
       "\n",
       "       ...,\n",
       "\n",
       "       [[ 72, 123, 152],\n",
       "        [ 76, 127, 156],\n",
       "        [ 75, 126, 155],\n",
       "        ...,\n",
       "        [ 73, 123, 148],\n",
       "        [ 84, 134, 159],\n",
       "        [ 89, 139, 164]],\n",
       "\n",
       "       [[ 70, 121, 150],\n",
       "        [ 74, 125, 154],\n",
       "        [ 74, 125, 154],\n",
       "        ...,\n",
       "        [ 76, 126, 151],\n",
       "        [ 85, 135, 160],\n",
       "        [ 90, 140, 165]],\n",
       "\n",
       "       [[ 68, 119, 148],\n",
       "        [ 73, 124, 153],\n",
       "        [ 74, 125, 154],\n",
       "        ...,\n",
       "        [ 78, 128, 153],\n",
       "        [ 87, 137, 162],\n",
       "        [ 90, 140, 165]]], dtype=uint8)"
      ]
     },
     "execution_count": 6,
     "metadata": {},
     "output_type": "execute_result"
    }
   ],
   "source": [
    "array=np.array(im)\n",
    "print(array.shape)\n",
    "array"
   ]
  },
  {
   "cell_type": "code",
   "execution_count": 7,
   "metadata": {},
   "outputs": [
    {
     "data": {
      "text/plain": [
       "array([[[255, 255, 255],\n",
       "        [255, 255, 255],\n",
       "        [255, 255, 255],\n",
       "        ...,\n",
       "        [255, 255, 255],\n",
       "        [255, 255, 255],\n",
       "        [255, 255, 255]],\n",
       "\n",
       "       [[255, 255, 255],\n",
       "        [255, 255, 255],\n",
       "        [255, 255, 255],\n",
       "        ...,\n",
       "        [255, 255, 255],\n",
       "        [255, 255, 255],\n",
       "        [255, 255, 255]],\n",
       "\n",
       "       [[255, 255, 255],\n",
       "        [255, 255, 255],\n",
       "        [255, 255, 255],\n",
       "        ...,\n",
       "        [255, 255, 255],\n",
       "        [255, 255, 255],\n",
       "        [255, 255, 255]],\n",
       "\n",
       "       ...,\n",
       "\n",
       "       [[255, 255, 255],\n",
       "        [255, 255, 255],\n",
       "        [255, 255, 255],\n",
       "        ...,\n",
       "        [255, 255, 255],\n",
       "        [255, 255, 255],\n",
       "        [255, 255, 255]],\n",
       "\n",
       "       [[255, 255, 255],\n",
       "        [255, 255, 255],\n",
       "        [255, 255, 255],\n",
       "        ...,\n",
       "        [255, 255, 255],\n",
       "        [255, 255, 255],\n",
       "        [255, 255, 255]],\n",
       "\n",
       "       [[255, 255, 255],\n",
       "        [255, 255, 255],\n",
       "        [255, 255, 255],\n",
       "        ...,\n",
       "        [255, 255, 255],\n",
       "        [255, 255, 255],\n",
       "        [255, 255, 255]]])"
      ]
     },
     "execution_count": 7,
     "metadata": {},
     "output_type": "execute_result"
    }
   ],
   "source": [
    "mask=np.full(array.shape,255)\n",
    "mask "
   ]
  },
  {
   "cell_type": "code",
   "execution_count": 8,
   "metadata": {},
   "outputs": [
    {
     "data": {
      "text/plain": [
       "array([[[ 46,  41,  37],\n",
       "        [ 43,  38,  34],\n",
       "        [ 40,  35,  31],\n",
       "        ...,\n",
       "        [113, 108, 104],\n",
       "        [115, 110, 106],\n",
       "        [116, 111, 107]],\n",
       "\n",
       "       [[ 43,  38,  34],\n",
       "        [ 40,  35,  31],\n",
       "        [ 36,  31,  27],\n",
       "        ...,\n",
       "        [ 59,  54,  50],\n",
       "        [ 61,  56,  52],\n",
       "        [ 62,  57,  53]],\n",
       "\n",
       "       [[ 39,  34,  30],\n",
       "        [ 36,  31,  27],\n",
       "        [ 33,  28,  24],\n",
       "        ...,\n",
       "        [ 46,  41,  37],\n",
       "        [ 48,  43,  39],\n",
       "        [ 50,  45,  41]],\n",
       "\n",
       "       ...,\n",
       "\n",
       "       [[183, 132, 103],\n",
       "        [179, 128,  99],\n",
       "        [180, 129, 100],\n",
       "        ...,\n",
       "        [182, 132, 107],\n",
       "        [171, 121,  96],\n",
       "        [166, 116,  91]],\n",
       "\n",
       "       [[185, 134, 105],\n",
       "        [181, 130, 101],\n",
       "        [181, 130, 101],\n",
       "        ...,\n",
       "        [179, 129, 104],\n",
       "        [170, 120,  95],\n",
       "        [165, 115,  90]],\n",
       "\n",
       "       [[187, 136, 107],\n",
       "        [182, 131, 102],\n",
       "        [181, 130, 101],\n",
       "        ...,\n",
       "        [177, 127, 102],\n",
       "        [168, 118,  93],\n",
       "        [165, 115,  90]]], dtype=uint8)"
      ]
     },
     "execution_count": 8,
     "metadata": {},
     "output_type": "execute_result"
    }
   ],
   "source": [
    "modified_arr=array-mask\n",
    "modified_arr=modified_arr*-1\n",
    "modified_arr=modified_arr.astype(np.uint8)\n",
    "modified_arr"
   ]
  },
  {
   "cell_type": "code",
   "execution_count": 10,
   "metadata": {},
   "outputs": [
    {
     "data": {
      "image/png": "[encoded data removed]",
      "text/plain": [
       "<PIL.Image.Image image mode=RGB size=420x542 at 0x1D69A5A6CA0>"
      ]
     },
     "metadata": {},
     "output_type": "display_data"
    }
   ],
   "source": [
    "display(Image.fromarray(modified_arr))"
   ]
  },
  {
   "cell_type": "code",
   "execution_count": 12,
   "metadata": {},
   "outputs": [
    {
     "name": "stdout",
     "output_type": "stream",
     "text": [
      "fuck you\n"
     ]
    }
   ],
   "source": [
    "import re\n",
    "text = 'This is a bad day!'\n",
    "if re.search('good',text):\n",
    "    print('TRUE')\n",
    "else:\n",
    "    print(\"fuck you\")\n",
    "    "
   ]
  },
  {
   "cell_type": "code",
   "execution_count": 13,
   "metadata": {},
   "outputs": [],
   "source": [
    "a1 = np.random.rand(4)\n",
    "a2 = np.random.rand(4, 1)\n",
    "a3 = np.array([[1, 2, 3, 4]])\n",
    "a4 = np.arange(1, 4, 1)\n",
    "a5 = np.linspace(1 ,4, 4)"
   ]
  },
  {
   "cell_type": "code",
   "execution_count": 14,
   "metadata": {},
   "outputs": [
    {
     "data": {
      "text/plain": [
       "True"
      ]
     },
     "execution_count": 14,
     "metadata": {},
     "output_type": "execute_result"
    }
   ],
   "source": [
    "a5.shape == a1.shape"
   ]
  },
  {
   "cell_type": "code",
   "execution_count": 15,
   "metadata": {},
   "outputs": [
    {
     "ename": "TypeError",
     "evalue": "'int' object is not callable",
     "output_type": "error",
     "traceback": [
      "\u001b[1;31m---------------------------------------------------------------------------\u001b[0m",
      "\u001b[1;31mTypeError\u001b[0m                                 Traceback (most recent call last)",
      "\u001b[1;32m<ipython-input-15-258a6f23ff35>\u001b[0m in \u001b[0;36m<module>\u001b[1;34m\u001b[0m\n\u001b[1;32m----> 1\u001b[1;33m \u001b[0ma4\u001b[0m\u001b[1;33m.\u001b[0m\u001b[0mndim\u001b[0m\u001b[1;33m(\u001b[0m\u001b[1;33m)\u001b[0m \u001b[1;33m==\u001b[0m \u001b[1;36m1\u001b[0m\u001b[1;33m\u001b[0m\u001b[1;33m\u001b[0m\u001b[0m\n\u001b[0m",
      "\u001b[1;31mTypeError\u001b[0m: 'int' object is not callable"
     ]
    }
   ],
   "source": [
    "a4.ndim() == 1"
   ]
  },
  {
   "cell_type": "code",
   "execution_count": 20,
   "metadata": {},
   "outputs": [
    {
     "name": "stdout",
     "output_type": "stream",
     "text": [
      "Amy is 5 years old, and her sister Mary is 2 years old. \n",
      "    Ruth and Peter, their parents, have 3 kids.\n",
      "['Amy', 'Mary', 'Ruth', 'Peter']\n"
     ]
    },
    {
     "ename": "TypeError",
     "evalue": "object of type 'NoneType' has no len()",
     "output_type": "error",
     "traceback": [
      "\u001b[1;31m---------------------------------------------------------------------------\u001b[0m",
      "\u001b[1;31mTypeError\u001b[0m                                 Traceback (most recent call last)",
      "\u001b[1;32m<ipython-input-20-61bd1954140b>\u001b[0m in \u001b[0;36m<module>\u001b[1;34m\u001b[0m\n\u001b[0;32m     10\u001b[0m     \u001b[0mprint\u001b[0m\u001b[1;33m(\u001b[0m\u001b[0ml\u001b[0m\u001b[1;33m)\u001b[0m\u001b[1;33m\u001b[0m\u001b[1;33m\u001b[0m\u001b[0m\n\u001b[0;32m     11\u001b[0m \u001b[1;33m\u001b[0m\u001b[0m\n\u001b[1;32m---> 12\u001b[1;33m \u001b[1;32massert\u001b[0m \u001b[0mlen\u001b[0m\u001b[1;33m(\u001b[0m\u001b[0mnames\u001b[0m\u001b[1;33m(\u001b[0m\u001b[1;33m)\u001b[0m\u001b[1;33m)\u001b[0m \u001b[1;33m==\u001b[0m \u001b[1;36m4\u001b[0m\u001b[1;33m,\u001b[0m \u001b[1;34m\"There are four names in the simple_string\"\u001b[0m\u001b[1;33m\u001b[0m\u001b[1;33m\u001b[0m\u001b[0m\n\u001b[0m",
      "\u001b[1;31mTypeError\u001b[0m: object of type 'NoneType' has no len()"
     ]
    }
   ],
   "source": [
    "import re\n",
    "def names():\n",
    "    l = []\n",
    "    simple_string = \"\"\"Amy is 5 years old, and her sister Mary is 2 years old. \n",
    "    Ruth and Peter, their parents, have 3 kids.\"\"\"\n",
    "    names = re.findall(r'[A-Z][a-z]+', simple_string)\n",
    "    print(simple_string)\n",
    "    for name in names:\n",
    "        l.append(name)\n",
    "    print(l)\n",
    "    \n",
    "assert len(names()) == 4, \"There are four names in the simple_string\""
   ]
  },
  {
   "cell_type": "code",
   "execution_count": 35,
   "metadata": {},
   "outputs": [
    {
     "name": "stdout",
     "output_type": "stream",
     "text": [
      "['Bell Kassulke', 'Simon Loidl', 'Elias Jovanovic', 'Hakim Botros', 'Emilie Lorentsen', 'Jake Wood', 'Fatemeh Akhtar', 'Kim Weston', 'Yasmin Dar', 'Viswamitra Upandhye', 'Killian Kaufman', 'Elwood Page', 'Elodie Booker', 'Adnan Chen', 'Hank Spinka', 'Hannah Bayer']\n"
     ]
    }
   ],
   "source": [
    "import re\n",
    "def grades():\n",
    "    l=[]\n",
    "    with open (\"grades.txt\", \"r\") as file:\n",
    "        grades = file.read()\n",
    "    item = re.findall(\"(.*): B\", grades)\n",
    "    return item\n",
    "\n",
    "print(grades())"
   ]
  },
  {
   "cell_type": "code",
   "execution_count": 36,
   "metadata": {},
   "outputs": [
    {
     "ename": "SyntaxError",
     "evalue": "invalid syntax (<ipython-input-36-bfeec0824626>, line 5)",
     "output_type": "error",
     "traceback": [
      "\u001b[1;36m  File \u001b[1;32m\"<ipython-input-36-bfeec0824626>\"\u001b[1;36m, line \u001b[1;32m5\u001b[0m\n\u001b[1;33m    for item in re.finditer(\"(?P<host>[\\d\\.\\d\\.\\d]*) - (?P<user_name>[\\w]*) (?P<time>[-+\\w\\s:/]+)\", )\u001b[0m\n\u001b[1;37m                                                                                                     ^\u001b[0m\n\u001b[1;31mSyntaxError\u001b[0m\u001b[1;31m:\u001b[0m invalid syntax\n"
     ]
    }
   ],
   "source": [
    "import re\n",
    "def logs():\n",
    "    with open(\"assets/logdata.txt\", \"r\") as file:\n",
    "        logdata = file.read()\n",
    "    for item in re.finditer(\"(?P<host>[\\d\\.\\d\\.\\d]*) - (?P<user_name>[\\w]*) (?P<time>[-+\\w\\s:/]+)\", )\n",
    "        data.append(item.groupdict())\n",
    "    return data \n",
    "    \n",
    "assert len(logs()) == 979   "
   ]
  },
  {
   "cell_type": "code",
   "execution_count": 5,
   "metadata": {},
   "outputs": [],
   "source": [
    "import pandas as pd\n",
    "data = {'state': ['Ohio', 'Ohio', 'Ohio', 'Nevada', 'Nevada', 'Nevada'],\n",
    "        'pop': [1.5, 1.7, 3.6, 2.4, 2.9, 3.2],\n",
    "        'year': [2000, 2001, 2002, 2001, 2002, 2003]}\n",
    "frame = pd.DataFrame(data)              # Convert the data to data frames.\n"
   ]
  },
  {
   "cell_type": "code",
   "execution_count": 9,
   "metadata": {},
   "outputs": [
    {
     "data": {
      "text/html": [
       "<div>\n",
       "<style scoped>\n",
       "    .dataframe tbody tr th:only-of-type {\n",
       "        vertical-align: middle;\n",
       "    }\n",
       "\n",
       "    .dataframe tbody tr th {\n",
       "        vertical-align: top;\n",
       "    }\n",
       "\n",
       "    .dataframe thead th {\n",
       "        text-align: right;\n",
       "    }\n",
       "</style>\n",
       "<table border=\"1\" class=\"dataframe\">\n",
       "  <thead>\n",
       "    <tr style=\"text-align: right;\">\n",
       "      <th></th>\n",
       "      <th>state</th>\n",
       "      <th>pop</th>\n",
       "      <th>year</th>\n",
       "    </tr>\n",
       "  </thead>\n",
       "  <tbody>\n",
       "    <tr>\n",
       "      <th>0</th>\n",
       "      <td>Ohio</td>\n",
       "      <td>1.5</td>\n",
       "      <td>2000</td>\n",
       "    </tr>\n",
       "    <tr>\n",
       "      <th>1</th>\n",
       "      <td>Ohio</td>\n",
       "      <td>1.7</td>\n",
       "      <td>2001</td>\n",
       "    </tr>\n",
       "    <tr>\n",
       "      <th>2</th>\n",
       "      <td>Ohio</td>\n",
       "      <td>3.6</td>\n",
       "      <td>2002</td>\n",
       "    </tr>\n",
       "    <tr>\n",
       "      <th>3</th>\n",
       "      <td>Nevada</td>\n",
       "      <td>2.4</td>\n",
       "      <td>2001</td>\n",
       "    </tr>\n",
       "    <tr>\n",
       "      <th>4</th>\n",
       "      <td>Nevada</td>\n",
       "      <td>2.9</td>\n",
       "      <td>2002</td>\n",
       "    </tr>\n",
       "  </tbody>\n",
       "</table>\n",
       "</div>"
      ],
      "text/plain": [
       "    state  pop  year\n",
       "0    Ohio  1.5  2000\n",
       "1    Ohio  1.7  2001\n",
       "2    Ohio  3.6  2002\n",
       "3  Nevada  2.4  2001\n",
       "4  Nevada  2.9  2002"
      ]
     },
     "execution_count": 9,
     "metadata": {},
     "output_type": "execute_result"
    }
   ],
   "source": [
    "frame.head()     #head() function gives only top 5 rows of the data frame."
   ]
  },
  {
   "cell_type": "markdown",
   "metadata": {},
   "source": [
    "### We can also re-arrange teh following code."
   ]
  },
  {
   "cell_type": "code",
   "execution_count": 13,
   "metadata": {},
   "outputs": [
    {
     "data": {
      "text/html": [
       "<div>\n",
       "<style scoped>\n",
       "    .dataframe tbody tr th:only-of-type {\n",
       "        vertical-align: middle;\n",
       "    }\n",
       "\n",
       "    .dataframe tbody tr th {\n",
       "        vertical-align: top;\n",
       "    }\n",
       "\n",
       "    .dataframe thead th {\n",
       "        text-align: right;\n",
       "    }\n",
       "</style>\n",
       "<table border=\"1\" class=\"dataframe\">\n",
       "  <thead>\n",
       "    <tr style=\"text-align: right;\">\n",
       "      <th></th>\n",
       "      <th>pop</th>\n",
       "      <th>state</th>\n",
       "      <th>year</th>\n",
       "    </tr>\n",
       "  </thead>\n",
       "  <tbody>\n",
       "    <tr>\n",
       "      <th>0</th>\n",
       "      <td>1.5</td>\n",
       "      <td>Ohio</td>\n",
       "      <td>2000</td>\n",
       "    </tr>\n",
       "    <tr>\n",
       "      <th>1</th>\n",
       "      <td>1.7</td>\n",
       "      <td>Ohio</td>\n",
       "      <td>2001</td>\n",
       "    </tr>\n",
       "    <tr>\n",
       "      <th>2</th>\n",
       "      <td>3.6</td>\n",
       "      <td>Ohio</td>\n",
       "      <td>2002</td>\n",
       "    </tr>\n",
       "    <tr>\n",
       "      <th>3</th>\n",
       "      <td>2.4</td>\n",
       "      <td>Nevada</td>\n",
       "      <td>2001</td>\n",
       "    </tr>\n",
       "    <tr>\n",
       "      <th>4</th>\n",
       "      <td>2.9</td>\n",
       "      <td>Nevada</td>\n",
       "      <td>2002</td>\n",
       "    </tr>\n",
       "    <tr>\n",
       "      <th>5</th>\n",
       "      <td>3.2</td>\n",
       "      <td>Nevada</td>\n",
       "      <td>2003</td>\n",
       "    </tr>\n",
       "  </tbody>\n",
       "</table>\n",
       "</div>"
      ],
      "text/plain": [
       "   pop   state  year\n",
       "0  1.5    Ohio  2000\n",
       "1  1.7    Ohio  2001\n",
       "2  3.6    Ohio  2002\n",
       "3  2.4  Nevada  2001\n",
       "4  2.9  Nevada  2002\n",
       "5  3.2  Nevada  2003"
      ]
     },
     "execution_count": 13,
     "metadata": {},
     "output_type": "execute_result"
    }
   ],
   "source": [
    "pd.DataFrame(data,columns=['pop','state','year'])"
   ]
  },
  {
   "cell_type": "code",
   "execution_count": 20,
   "metadata": {},
   "outputs": [],
   "source": [
    "frame2 = pd.DataFrame(data, index=['one', 'two', 'three','four','five','six'])"
   ]
  },
  {
   "cell_type": "code",
   "execution_count": 22,
   "metadata": {},
   "outputs": [
    {
     "data": {
      "text/plain": [
       "one        Ohio\n",
       "two        Ohio\n",
       "three      Ohio\n",
       "four     Nevada\n",
       "five     Nevada\n",
       "six      Nevada\n",
       "Name: state, dtype: object"
      ]
     },
     "execution_count": 22,
     "metadata": {},
     "output_type": "execute_result"
    }
   ],
   "source": [
    "frame2.state     #Gives all the states name with the new index assigned above using index."
   ]
  },
  {
   "cell_type": "code",
   "execution_count": 27,
   "metadata": {},
   "outputs": [
    {
     "data": {
      "text/plain": [
       "state    Ohio\n",
       "pop       3.6\n",
       "year     2002\n",
       "Name: three, dtype: object"
      ]
     },
     "execution_count": 27,
     "metadata": {},
     "output_type": "execute_result"
    }
   ],
   "source": [
    "frame2.loc[\"three\"]    # This will print all the data of specified index."
   ]
  },
  {
   "cell_type": "code",
   "execution_count": 32,
   "metadata": {},
   "outputs": [
    {
     "data": {
      "text/html": [
       "<div>\n",
       "<style scoped>\n",
       "    .dataframe tbody tr th:only-of-type {\n",
       "        vertical-align: middle;\n",
       "    }\n",
       "\n",
       "    .dataframe tbody tr th {\n",
       "        vertical-align: top;\n",
       "    }\n",
       "\n",
       "    .dataframe thead th {\n",
       "        text-align: right;\n",
       "    }\n",
       "</style>\n",
       "<table border=\"1\" class=\"dataframe\">\n",
       "  <thead>\n",
       "    <tr style=\"text-align: right;\">\n",
       "      <th></th>\n",
       "      <th>state</th>\n",
       "      <th>pop</th>\n",
       "      <th>year</th>\n",
       "      <th>debt</th>\n",
       "    </tr>\n",
       "  </thead>\n",
       "  <tbody>\n",
       "    <tr>\n",
       "      <th>one</th>\n",
       "      <td>Ohio</td>\n",
       "      <td>1.5</td>\n",
       "      <td>2000</td>\n",
       "      <td>16.4</td>\n",
       "    </tr>\n",
       "    <tr>\n",
       "      <th>two</th>\n",
       "      <td>Ohio</td>\n",
       "      <td>1.7</td>\n",
       "      <td>2001</td>\n",
       "      <td>16.4</td>\n",
       "    </tr>\n",
       "    <tr>\n",
       "      <th>three</th>\n",
       "      <td>Ohio</td>\n",
       "      <td>3.6</td>\n",
       "      <td>2002</td>\n",
       "      <td>16.4</td>\n",
       "    </tr>\n",
       "    <tr>\n",
       "      <th>four</th>\n",
       "      <td>Nevada</td>\n",
       "      <td>2.4</td>\n",
       "      <td>2001</td>\n",
       "      <td>16.4</td>\n",
       "    </tr>\n",
       "    <tr>\n",
       "      <th>five</th>\n",
       "      <td>Nevada</td>\n",
       "      <td>2.9</td>\n",
       "      <td>2002</td>\n",
       "      <td>16.4</td>\n",
       "    </tr>\n",
       "    <tr>\n",
       "      <th>six</th>\n",
       "      <td>Nevada</td>\n",
       "      <td>3.2</td>\n",
       "      <td>2003</td>\n",
       "      <td>16.4</td>\n",
       "    </tr>\n",
       "  </tbody>\n",
       "</table>\n",
       "</div>"
      ],
      "text/plain": [
       "        state  pop  year  debt\n",
       "one      Ohio  1.5  2000  16.4\n",
       "two      Ohio  1.7  2001  16.4\n",
       "three    Ohio  3.6  2002  16.4\n",
       "four   Nevada  2.4  2001  16.4\n",
       "five   Nevada  2.9  2002  16.4\n",
       "six    Nevada  3.2  2003  16.4"
      ]
     },
     "execution_count": 32,
     "metadata": {},
     "output_type": "execute_result"
    }
   ],
   "source": [
    "frame2['debt'] = 16.4  # To add a new column we do like this. \n",
    "frame2"
   ]
  },
  {
   "cell_type": "code",
   "execution_count": 39,
   "metadata": {},
   "outputs": [
    {
     "data": {
      "text/html": [
       "<div>\n",
       "<style scoped>\n",
       "    .dataframe tbody tr th:only-of-type {\n",
       "        vertical-align: middle;\n",
       "    }\n",
       "\n",
       "    .dataframe tbody tr th {\n",
       "        vertical-align: top;\n",
       "    }\n",
       "\n",
       "    .dataframe thead th {\n",
       "        text-align: right;\n",
       "    }\n",
       "</style>\n",
       "<table border=\"1\" class=\"dataframe\">\n",
       "  <thead>\n",
       "    <tr style=\"text-align: right;\">\n",
       "      <th></th>\n",
       "      <th>state</th>\n",
       "      <th>pop</th>\n",
       "      <th>year</th>\n",
       "      <th>debt</th>\n",
       "    </tr>\n",
       "  </thead>\n",
       "  <tbody>\n",
       "    <tr>\n",
       "      <th>one</th>\n",
       "      <td>Ohio</td>\n",
       "      <td>1.5</td>\n",
       "      <td>2000</td>\n",
       "      <td>0</td>\n",
       "    </tr>\n",
       "    <tr>\n",
       "      <th>two</th>\n",
       "      <td>Ohio</td>\n",
       "      <td>1.7</td>\n",
       "      <td>2001</td>\n",
       "      <td>1</td>\n",
       "    </tr>\n",
       "    <tr>\n",
       "      <th>three</th>\n",
       "      <td>Ohio</td>\n",
       "      <td>3.6</td>\n",
       "      <td>2002</td>\n",
       "      <td>2</td>\n",
       "    </tr>\n",
       "    <tr>\n",
       "      <th>four</th>\n",
       "      <td>Nevada</td>\n",
       "      <td>2.4</td>\n",
       "      <td>2001</td>\n",
       "      <td>3</td>\n",
       "    </tr>\n",
       "    <tr>\n",
       "      <th>five</th>\n",
       "      <td>Nevada</td>\n",
       "      <td>2.9</td>\n",
       "      <td>2002</td>\n",
       "      <td>4</td>\n",
       "    </tr>\n",
       "    <tr>\n",
       "      <th>six</th>\n",
       "      <td>Nevada</td>\n",
       "      <td>3.2</td>\n",
       "      <td>2003</td>\n",
       "      <td>5</td>\n",
       "    </tr>\n",
       "  </tbody>\n",
       "</table>\n",
       "</div>"
      ],
      "text/plain": [
       "        state  pop  year  debt\n",
       "one      Ohio  1.5  2000     0\n",
       "two      Ohio  1.7  2001     1\n",
       "three    Ohio  3.6  2002     2\n",
       "four   Nevada  2.4  2001     3\n",
       "five   Nevada  2.9  2002     4\n",
       "six    Nevada  3.2  2003     5"
      ]
     },
     "execution_count": 39,
     "metadata": {},
     "output_type": "execute_result"
    }
   ],
   "source": [
    "import numpy as np\n",
    "frame2['debt'] = np.arange(6)\n",
    "frame2"
   ]
  },
  {
   "cell_type": "code",
   "execution_count": 44,
   "metadata": {},
   "outputs": [
    {
     "data": {
      "text/html": [
       "<div>\n",
       "<style scoped>\n",
       "    .dataframe tbody tr th:only-of-type {\n",
       "        vertical-align: middle;\n",
       "    }\n",
       "\n",
       "    .dataframe tbody tr th {\n",
       "        vertical-align: top;\n",
       "    }\n",
       "\n",
       "    .dataframe thead th {\n",
       "        text-align: right;\n",
       "    }\n",
       "</style>\n",
       "<table border=\"1\" class=\"dataframe\">\n",
       "  <thead>\n",
       "    <tr style=\"text-align: right;\">\n",
       "      <th>details</th>\n",
       "      <th>state</th>\n",
       "      <th>pop</th>\n",
       "      <th>year</th>\n",
       "      <th>debt</th>\n",
       "    </tr>\n",
       "    <tr>\n",
       "      <th>s.no</th>\n",
       "      <th></th>\n",
       "      <th></th>\n",
       "      <th></th>\n",
       "      <th></th>\n",
       "    </tr>\n",
       "  </thead>\n",
       "  <tbody>\n",
       "    <tr>\n",
       "      <th>one</th>\n",
       "      <td>Ohio</td>\n",
       "      <td>1.5</td>\n",
       "      <td>2000</td>\n",
       "      <td>NaN</td>\n",
       "    </tr>\n",
       "    <tr>\n",
       "      <th>two</th>\n",
       "      <td>Ohio</td>\n",
       "      <td>1.7</td>\n",
       "      <td>2001</td>\n",
       "      <td>-1.2</td>\n",
       "    </tr>\n",
       "    <tr>\n",
       "      <th>three</th>\n",
       "      <td>Ohio</td>\n",
       "      <td>3.6</td>\n",
       "      <td>2002</td>\n",
       "      <td>NaN</td>\n",
       "    </tr>\n",
       "    <tr>\n",
       "      <th>four</th>\n",
       "      <td>Nevada</td>\n",
       "      <td>2.4</td>\n",
       "      <td>2001</td>\n",
       "      <td>-5.6</td>\n",
       "    </tr>\n",
       "    <tr>\n",
       "      <th>five</th>\n",
       "      <td>Nevada</td>\n",
       "      <td>2.9</td>\n",
       "      <td>2002</td>\n",
       "      <td>NaN</td>\n",
       "    </tr>\n",
       "    <tr>\n",
       "      <th>six</th>\n",
       "      <td>Nevada</td>\n",
       "      <td>3.2</td>\n",
       "      <td>2003</td>\n",
       "      <td>NaN</td>\n",
       "    </tr>\n",
       "  </tbody>\n",
       "</table>\n",
       "</div>"
      ],
      "text/plain": [
       "details   state  pop  year  debt\n",
       "s.no                            \n",
       "one        Ohio  1.5  2000   NaN\n",
       "two        Ohio  1.7  2001  -1.2\n",
       "three      Ohio  3.6  2002   NaN\n",
       "four     Nevada  2.4  2001  -5.6\n",
       "five     Nevada  2.9  2002   NaN\n",
       "six      Nevada  3.2  2003   NaN"
      ]
     },
     "execution_count": 44,
     "metadata": {},
     "output_type": "execute_result"
    }
   ],
   "source": [
    "val = pd.Series([-1.2,-5.6,7.2], index = ['two','four','threSe'])\n",
    "frame2['debt'] = val\n",
    "frame2.index.name='s.no'; frame2.columns.name='details'\n",
    "frame2"
   ]
  },
  {
   "cell_type": "code",
   "execution_count": 48,
   "metadata": {},
   "outputs": [
    {
     "data": {
      "text/plain": [
       "Int64Index([0, 1, 2, 3, 4, 5], dtype='int64')"
      ]
     },
     "execution_count": 48,
     "metadata": {},
     "output_type": "execute_result"
    }
   ],
   "source": [
    "labels = pd.Index(np.arange(6))\n",
    "labels"
   ]
  },
  {
   "cell_type": "markdown",
   "metadata": {},
   "source": [
    "## Pandas also have Series Explained below about series."
   ]
  },
  {
   "cell_type": "code",
   "execution_count": 51,
   "metadata": {},
   "outputs": [
    {
     "data": {
      "text/plain": [
       "0      0.00\n",
       "1     -5.70\n",
       "2     -8.35\n",
       "3     45.00\n",
       "4     23.00\n",
       "5    234.00\n",
       "dtype: float64"
      ]
     },
     "execution_count": 51,
     "metadata": {},
     "output_type": "execute_result"
    }
   ],
   "source": [
    "obj2 = pd.Series([0,-5.7,-8.35,45,23, 234], index=labels)\n",
    "obj2"
   ]
  },
  {
   "cell_type": "code",
   "execution_count": 58,
   "metadata": {},
   "outputs": [
    {
     "data": {
      "text/html": [
       "<div>\n",
       "<style scoped>\n",
       "    .dataframe tbody tr th:only-of-type {\n",
       "        vertical-align: middle;\n",
       "    }\n",
       "\n",
       "    .dataframe tbody tr th {\n",
       "        vertical-align: top;\n",
       "    }\n",
       "\n",
       "    .dataframe thead th {\n",
       "        text-align: right;\n",
       "    }\n",
       "</style>\n",
       "<table border=\"1\" class=\"dataframe\">\n",
       "  <thead>\n",
       "    <tr style=\"text-align: right;\">\n",
       "      <th></th>\n",
       "      <th>ohio</th>\n",
       "      <th>hanas</th>\n",
       "      <th>labas</th>\n",
       "    </tr>\n",
       "  </thead>\n",
       "  <tbody>\n",
       "    <tr>\n",
       "      <th>a</th>\n",
       "      <td>0</td>\n",
       "      <td>1</td>\n",
       "      <td>2</td>\n",
       "    </tr>\n",
       "    <tr>\n",
       "      <th>b</th>\n",
       "      <td>3</td>\n",
       "      <td>4</td>\n",
       "      <td>5</td>\n",
       "    </tr>\n",
       "    <tr>\n",
       "      <th>c</th>\n",
       "      <td>6</td>\n",
       "      <td>7</td>\n",
       "      <td>8</td>\n",
       "    </tr>\n",
       "  </tbody>\n",
       "</table>\n",
       "</div>"
      ],
      "text/plain": [
       "   ohio  hanas  labas\n",
       "a     0      1      2\n",
       "b     3      4      5\n",
       "c     6      7      8"
      ]
     },
     "execution_count": 58,
     "metadata": {},
     "output_type": "execute_result"
    }
   ],
   "source": [
    "frame3 = pd.DataFrame(np.arange(9).reshape((3,3)), \n",
    "                      index=['a','b','c'], \n",
    "                      columns=['ohio','hanas','labas'])\n",
    "frame3"
   ]
  },
  {
   "cell_type": "code",
   "execution_count": 60,
   "metadata": {},
   "outputs": [
    {
     "data": {
      "text/html": [
       "<div>\n",
       "<style scoped>\n",
       "    .dataframe tbody tr th:only-of-type {\n",
       "        vertical-align: middle;\n",
       "    }\n",
       "\n",
       "    .dataframe tbody tr th {\n",
       "        vertical-align: top;\n",
       "    }\n",
       "\n",
       "    .dataframe thead th {\n",
       "        text-align: right;\n",
       "    }\n",
       "</style>\n",
       "<table border=\"1\" class=\"dataframe\">\n",
       "  <thead>\n",
       "    <tr style=\"text-align: right;\">\n",
       "      <th></th>\n",
       "      <th>ohio</th>\n",
       "      <th>hanas</th>\n",
       "      <th>labas</th>\n",
       "    </tr>\n",
       "  </thead>\n",
       "  <tbody>\n",
       "    <tr>\n",
       "      <th>abc</th>\n",
       "      <td>NaN</td>\n",
       "      <td>NaN</td>\n",
       "      <td>NaN</td>\n",
       "    </tr>\n",
       "    <tr>\n",
       "      <th>def</th>\n",
       "      <td>NaN</td>\n",
       "      <td>NaN</td>\n",
       "      <td>NaN</td>\n",
       "    </tr>\n",
       "    <tr>\n",
       "      <th>afgsd</th>\n",
       "      <td>NaN</td>\n",
       "      <td>NaN</td>\n",
       "      <td>NaN</td>\n",
       "    </tr>\n",
       "  </tbody>\n",
       "</table>\n",
       "</div>"
      ],
      "text/plain": [
       "       ohio  hanas  labas\n",
       "abc     NaN    NaN    NaN\n",
       "def     NaN    NaN    NaN\n",
       "afgsd   NaN    NaN    NaN"
      ]
     },
     "execution_count": 60,
     "metadata": {},
     "output_type": "execute_result"
    }
   ],
   "source": [
    "frame4 = frame3.reindex(['abc','def','afgsd'])\n",
    "frame4"
   ]
  },
  {
   "cell_type": "code",
   "execution_count": 64,
   "metadata": {},
   "outputs": [
    {
     "data": {
      "text/html": [
       "<div>\n",
       "<style scoped>\n",
       "    .dataframe tbody tr th:only-of-type {\n",
       "        vertical-align: middle;\n",
       "    }\n",
       "\n",
       "    .dataframe tbody tr th {\n",
       "        vertical-align: top;\n",
       "    }\n",
       "\n",
       "    .dataframe thead th {\n",
       "        text-align: right;\n",
       "    }\n",
       "</style>\n",
       "<table border=\"1\" class=\"dataframe\">\n",
       "  <thead>\n",
       "    <tr style=\"text-align: right;\">\n",
       "      <th></th>\n",
       "      <th>ohio</th>\n",
       "      <th>hanas</th>\n",
       "      <th>labas</th>\n",
       "    </tr>\n",
       "  </thead>\n",
       "  <tbody>\n",
       "    <tr>\n",
       "      <th>a</th>\n",
       "      <td>0</td>\n",
       "      <td>1</td>\n",
       "      <td>2</td>\n",
       "    </tr>\n",
       "    <tr>\n",
       "      <th>b</th>\n",
       "      <td>3</td>\n",
       "      <td>4</td>\n",
       "      <td>5</td>\n",
       "    </tr>\n",
       "    <tr>\n",
       "      <th>c</th>\n",
       "      <td>6</td>\n",
       "      <td>7</td>\n",
       "      <td>8</td>\n",
       "    </tr>\n",
       "  </tbody>\n",
       "</table>\n",
       "</div>"
      ],
      "text/plain": [
       "   ohio  hanas  labas\n",
       "a     0      1      2\n",
       "b     3      4      5\n",
       "c     6      7      8"
      ]
     },
     "execution_count": 64,
     "metadata": {},
     "output_type": "execute_result"
    }
   ],
   "source": [
    "states = ['texas', 'utah','california']\n",
    "frame3.reindex(columns = states)\n",
    "frame3"
   ]
  },
  {
   "cell_type": "code",
   "execution_count": 68,
   "metadata": {},
   "outputs": [
    {
     "data": {
      "text/html": [
       "<div>\n",
       "<style scoped>\n",
       "    .dataframe tbody tr th:only-of-type {\n",
       "        vertical-align: middle;\n",
       "    }\n",
       "\n",
       "    .dataframe tbody tr th {\n",
       "        vertical-align: top;\n",
       "    }\n",
       "\n",
       "    .dataframe thead th {\n",
       "        text-align: right;\n",
       "    }\n",
       "</style>\n",
       "<table border=\"1\" class=\"dataframe\">\n",
       "  <thead>\n",
       "    <tr style=\"text-align: right;\">\n",
       "      <th></th>\n",
       "      <th>one</th>\n",
       "      <th>two</th>\n",
       "      <th>three</th>\n",
       "      <th>four</th>\n",
       "    </tr>\n",
       "  </thead>\n",
       "  <tbody>\n",
       "    <tr>\n",
       "      <th>Ohio</th>\n",
       "      <td>0</td>\n",
       "      <td>1</td>\n",
       "      <td>2</td>\n",
       "      <td>3</td>\n",
       "    </tr>\n",
       "    <tr>\n",
       "      <th>Colorado</th>\n",
       "      <td>4</td>\n",
       "      <td>5</td>\n",
       "      <td>6</td>\n",
       "      <td>7</td>\n",
       "    </tr>\n",
       "    <tr>\n",
       "      <th>Utah</th>\n",
       "      <td>8</td>\n",
       "      <td>9</td>\n",
       "      <td>10</td>\n",
       "      <td>11</td>\n",
       "    </tr>\n",
       "    <tr>\n",
       "      <th>New York</th>\n",
       "      <td>12</td>\n",
       "      <td>13</td>\n",
       "      <td>14</td>\n",
       "      <td>15</td>\n",
       "    </tr>\n",
       "  </tbody>\n",
       "</table>\n",
       "</div>"
      ],
      "text/plain": [
       "          one  two  three  four\n",
       "Ohio        0    1      2     3\n",
       "Colorado    4    5      6     7\n",
       "Utah        8    9     10    11\n",
       "New York   12   13     14    15"
      ]
     },
     "execution_count": 68,
     "metadata": {},
     "output_type": "execute_result"
    }
   ],
   "source": [
    "power = pd.DataFrame(np.arange(16).reshape((4, 4)),\n",
    " index=['Ohio', 'Colorado', 'Utah', 'New York'],\n",
    " columns=['one', 'two', 'three', 'four'])\n",
    "power"
   ]
  },
  {
   "cell_type": "code",
   "execution_count": 13,
   "metadata": {},
   "outputs": [
    {
     "name": "stderr",
     "output_type": "stream",
     "text": [
      "<ipython-input-13-c0b171afaee8>:6: FutureWarning: The Panel class is removed from pandas. Accessing it from the top-level namespace will also be removed in the next version\n",
      "  p = pd.Panel(data)\n"
     ]
    },
    {
     "ename": "TypeError",
     "evalue": "Panel() takes no arguments",
     "output_type": "error",
     "traceback": [
      "\u001b[1;31m---------------------------------------------------------------------------\u001b[0m",
      "\u001b[1;31mTypeError\u001b[0m                                 Traceback (most recent call last)",
      "\u001b[1;32m<ipython-input-13-c0b171afaee8>\u001b[0m in \u001b[0;36m<module>\u001b[1;34m\u001b[0m\n\u001b[0;32m      4\u001b[0m data = {'Item1' : pd.DataFrame(np.random.randn(4, 3)), \n\u001b[0;32m      5\u001b[0m    'Item2' : pd.DataFrame(np.random.randn(4, 2))}\n\u001b[1;32m----> 6\u001b[1;33m \u001b[0mp\u001b[0m \u001b[1;33m=\u001b[0m \u001b[0mpd\u001b[0m\u001b[1;33m.\u001b[0m\u001b[0mPanel\u001b[0m\u001b[1;33m(\u001b[0m\u001b[0mdata\u001b[0m\u001b[1;33m)\u001b[0m\u001b[1;33m\u001b[0m\u001b[1;33m\u001b[0m\u001b[0m\n\u001b[0m\u001b[0;32m      7\u001b[0m \u001b[0mprint\u001b[0m \u001b[1;33m(\u001b[0m\u001b[0mp\u001b[0m\u001b[1;33m)\u001b[0m\u001b[1;33m\u001b[0m\u001b[1;33m\u001b[0m\u001b[0m\n",
      "\u001b[1;31mTypeError\u001b[0m: Panel() takes no arguments"
     ]
    }
   ],
   "source": [
    "import pandas as pd\n",
    "import numpy as np\n",
    "\n",
    "data = {'Item1' : pd.DataFrame(np.random.randn(4, 3)), \n",
    "   'Item2' : pd.DataFrame(np.random.randn(4, 2))}\n",
    "p = pd.Panel(data)\n",
    "print (p)"
   ]
  },
  {
   "cell_type": "code",
   "execution_count": 71,
   "metadata": {},
   "outputs": [
    {
     "data": {
      "text/html": [
       "<div>\n",
       "<style scoped>\n",
       "    .dataframe tbody tr th:only-of-type {\n",
       "        vertical-align: middle;\n",
       "    }\n",
       "\n",
       "    .dataframe tbody tr th {\n",
       "        vertical-align: top;\n",
       "    }\n",
       "\n",
       "    .dataframe thead th {\n",
       "        text-align: right;\n",
       "    }\n",
       "</style>\n",
       "<table border=\"1\" class=\"dataframe\">\n",
       "  <thead>\n",
       "    <tr style=\"text-align: right;\">\n",
       "      <th></th>\n",
       "      <th>one</th>\n",
       "      <th>two</th>\n",
       "      <th>three</th>\n",
       "      <th>four</th>\n",
       "    </tr>\n",
       "  </thead>\n",
       "  <tbody>\n",
       "    <tr>\n",
       "      <th>Utah</th>\n",
       "      <td>8</td>\n",
       "      <td>9</td>\n",
       "      <td>10</td>\n",
       "      <td>11</td>\n",
       "    </tr>\n",
       "    <tr>\n",
       "      <th>New York</th>\n",
       "      <td>12</td>\n",
       "      <td>13</td>\n",
       "      <td>14</td>\n",
       "      <td>15</td>\n",
       "    </tr>\n",
       "  </tbody>\n",
       "</table>\n",
       "</div>"
      ],
      "text/plain": [
       "          one  two  three  four\n",
       "Utah        8    9     10    11\n",
       "New York   12   13     14    15"
      ]
     },
     "execution_count": 71,
     "metadata": {},
     "output_type": "execute_result"
    }
   ],
   "source": [
    "power.drop(['Colorado','Ohio'])"
   ]
  },
  {
   "cell_type": "code",
   "execution_count": 76,
   "metadata": {},
   "outputs": [
    {
     "data": {
      "text/html": [
       "<div>\n",
       "<style scoped>\n",
       "    .dataframe tbody tr th:only-of-type {\n",
       "        vertical-align: middle;\n",
       "    }\n",
       "\n",
       "    .dataframe tbody tr th {\n",
       "        vertical-align: top;\n",
       "    }\n",
       "\n",
       "    .dataframe thead th {\n",
       "        text-align: right;\n",
       "    }\n",
       "</style>\n",
       "<table border=\"1\" class=\"dataframe\">\n",
       "  <thead>\n",
       "    <tr style=\"text-align: right;\">\n",
       "      <th></th>\n",
       "      <th>one</th>\n",
       "      <th>two</th>\n",
       "      <th>three</th>\n",
       "      <th>four</th>\n",
       "    </tr>\n",
       "  </thead>\n",
       "  <tbody>\n",
       "    <tr>\n",
       "      <th>Ohio</th>\n",
       "      <td>0</td>\n",
       "      <td>1</td>\n",
       "      <td>2</td>\n",
       "      <td>3</td>\n",
       "    </tr>\n",
       "    <tr>\n",
       "      <th>Colorado</th>\n",
       "      <td>4</td>\n",
       "      <td>5</td>\n",
       "      <td>6</td>\n",
       "      <td>7</td>\n",
       "    </tr>\n",
       "    <tr>\n",
       "      <th>New York</th>\n",
       "      <td>12</td>\n",
       "      <td>13</td>\n",
       "      <td>14</td>\n",
       "      <td>15</td>\n",
       "    </tr>\n",
       "  </tbody>\n",
       "</table>\n",
       "</div>"
      ],
      "text/plain": [
       "          one  two  three  four\n",
       "Ohio        0    1      2     3\n",
       "Colorado    4    5      6     7\n",
       "New York   12   13     14    15"
      ]
     },
     "execution_count": 76,
     "metadata": {},
     "output_type": "execute_result"
    }
   ],
   "source": [
    "power.drop('Utah', axis = 0)"
   ]
  },
  {
   "cell_type": "code",
   "execution_count": 2,
   "metadata": {},
   "outputs": [],
   "source": [
    "import pandas as pd\n",
    "sdata = {'Ohio': 35000, 'Texas': 71000, 'Oregon': 16000, 'Utah': 5000}\n",
    "obj1 = pd.Series(sdata)\n",
    "states = ['California', 'Ohio', 'Oregon', 'Texas']\n",
    "obj2 = pd.Series(sdata, index=states)\n",
    "obj3 = pd.isnull(obj2)    "
   ]
  },
  {
   "cell_type": "code",
   "execution_count": 10,
   "metadata": {},
   "outputs": [
    {
     "data": {
      "text/plain": [
       "False"
      ]
     },
     "execution_count": 10,
     "metadata": {},
     "output_type": "execute_result"
    }
   ],
   "source": [
    "obj3['California'] == None\n"
   ]
  },
  {
   "cell_type": "code",
   "execution_count": 8,
   "metadata": {},
   "outputs": [
    {
     "data": {
      "text/plain": [
       "California        NaN\n",
       "Ohio          35000.0\n",
       "Oregon        16000.0\n",
       "Texas         71000.0\n",
       "dtype: float64"
      ]
     },
     "execution_count": 8,
     "metadata": {},
     "output_type": "execute_result"
    }
   ],
   "source": [
    "obj2"
   ]
  },
  {
   "cell_type": "code",
   "execution_count": 11,
   "metadata": {},
   "outputs": [],
   "source": [
    "import pandas as pd\n",
    "d = {'1': 'Alice','2': 'Bob','3': 'Rita','4': 'Molly','5': 'Ryan'}\n",
    "S = pd.Series(d)"
   ]
  },
  {
   "cell_type": "code",
   "execution_count": 12,
   "metadata": {},
   "outputs": [
    {
     "data": {
      "text/plain": [
       "1    Alice\n",
       "2      Bob\n",
       "3     Rita\n",
       "dtype: object"
      ]
     },
     "execution_count": 12,
     "metadata": {},
     "output_type": "execute_result"
    }
   ],
   "source": [
    "S.iloc[0:3]"
   ]
  },
  {
   "cell_type": "code",
   "execution_count": 2,
   "metadata": {},
   "outputs": [],
   "source": [
    "import pandas as pd\n",
    "s1 = pd.Series({1: 'Alice', 2: 'Jack', 3: 'Molly'})\n",
    "s2 = pd.Series({'Alice': 1, 'Jack': 2, 'Molly': 3})"
   ]
  },
  {
   "cell_type": "code",
   "execution_count": 3,
   "metadata": {},
   "outputs": [
    {
     "data": {
      "text/plain": [
       "2"
      ]
     },
     "execution_count": 3,
     "metadata": {},
     "output_type": "execute_result"
    }
   ],
   "source": [
    "s2.iloc[1]"
   ]
  },
  {
   "cell_type": "code",
   "execution_count": 18,
   "metadata": {},
   "outputs": [
    {
     "name": "stdout",
     "output_type": "stream",
     "text": [
      "First series: \n",
      " 100    a\n",
      "101    b\n",
      "102    c\n",
      "103    d\n",
      "dtype: object\n",
      "\n",
      "Second series: \n",
      " a    0.0\n",
      "b    1.0\n",
      "c    2.0\n",
      "dtype: float64\n",
      "\n",
      "Appended series: \n",
      " 100    a\n",
      "101    b\n",
      "102    c\n",
      "103    d\n",
      "a      0\n",
      "b      1\n",
      "c      2\n",
      "dtype: object\n"
     ]
    }
   ],
   "source": [
    "import pandas as pd\n",
    "import numpy as np\n",
    "\n",
    "\n",
    "#create and print first series\n",
    "data = np.array(['a','b','c','d'])  \n",
    "s = pd.Series(data,index=[100,101,102,103])\n",
    "print('First series: \\n',s)\n",
    "print()\n",
    "\n",
    "\n",
    "#create and print second series\n",
    "data = {'a' : 0., 'b' : 1., 'c' : 2.}\n",
    "s1 = pd.Series(data)\n",
    "print('Second series: \\n',s1)\n",
    "print()\n",
    "\n",
    "\n",
    "#append and print combined series\n",
    "print('Appended series: \\n',s.append(s1))"
   ]
  },
  {
   "cell_type": "code",
   "execution_count": 19,
   "metadata": {},
   "outputs": [
    {
     "ename": "NameError",
     "evalue": "name 'power' is not defined",
     "output_type": "error",
     "traceback": [
      "\u001b[1;31m---------------------------------------------------------------------------\u001b[0m",
      "\u001b[1;31mNameError\u001b[0m                                 Traceback (most recent call last)",
      "\u001b[1;32m<ipython-input-19-d6a407a2c881>\u001b[0m in \u001b[0;36m<module>\u001b[1;34m\u001b[0m\n\u001b[1;32m----> 1\u001b[1;33m \u001b[0mpower\u001b[0m\u001b[1;33m\u001b[0m\u001b[1;33m\u001b[0m\u001b[0m\n\u001b[0m",
      "\u001b[1;31mNameError\u001b[0m: name 'power' is not defined"
     ]
    }
   ],
   "source": [
    "power"
   ]
  },
  {
   "cell_type": "code",
   "execution_count": 20,
   "metadata": {},
   "outputs": [
    {
     "ename": "NameError",
     "evalue": "name 'power' is not defined",
     "output_type": "error",
     "traceback": [
      "\u001b[1;31m---------------------------------------------------------------------------\u001b[0m",
      "\u001b[1;31mNameError\u001b[0m                                 Traceback (most recent call last)",
      "\u001b[1;32m<ipython-input-20-b4bb8a4e9817>\u001b[0m in \u001b[0;36m<module>\u001b[1;34m\u001b[0m\n\u001b[1;32m----> 1\u001b[1;33m \u001b[0mpower\u001b[0m\u001b[1;33m.\u001b[0m\u001b[0mhead\u001b[0m\u001b[1;33m(\u001b[0m\u001b[1;33m)\u001b[0m\u001b[1;33m\u001b[0m\u001b[1;33m\u001b[0m\u001b[0m\n\u001b[0m",
      "\u001b[1;31mNameError\u001b[0m: name 'power' is not defined"
     ]
    }
   ],
   "source": [
    "power.head()"
   ]
  },
  {
   "cell_type": "code",
   "execution_count": 21,
   "metadata": {},
   "outputs": [
    {
     "data": {
      "text/html": [
       "<div>\n",
       "<style scoped>\n",
       "    .dataframe tbody tr th:only-of-type {\n",
       "        vertical-align: middle;\n",
       "    }\n",
       "\n",
       "    .dataframe tbody tr th {\n",
       "        vertical-align: top;\n",
       "    }\n",
       "\n",
       "    .dataframe thead th {\n",
       "        text-align: right;\n",
       "    }\n",
       "</style>\n",
       "<table border=\"1\" class=\"dataframe\">\n",
       "  <thead>\n",
       "    <tr style=\"text-align: right;\">\n",
       "      <th></th>\n",
       "      <th>one</th>\n",
       "      <th>two</th>\n",
       "      <th>three</th>\n",
       "      <th>four</th>\n",
       "    </tr>\n",
       "  </thead>\n",
       "  <tbody>\n",
       "    <tr>\n",
       "      <th>Ohio</th>\n",
       "      <td>0</td>\n",
       "      <td>1</td>\n",
       "      <td>2</td>\n",
       "      <td>3</td>\n",
       "    </tr>\n",
       "    <tr>\n",
       "      <th>Colorado</th>\n",
       "      <td>4</td>\n",
       "      <td>5</td>\n",
       "      <td>6</td>\n",
       "      <td>7</td>\n",
       "    </tr>\n",
       "    <tr>\n",
       "      <th>Utah</th>\n",
       "      <td>8</td>\n",
       "      <td>9</td>\n",
       "      <td>10</td>\n",
       "      <td>11</td>\n",
       "    </tr>\n",
       "    <tr>\n",
       "      <th>New York</th>\n",
       "      <td>12</td>\n",
       "      <td>13</td>\n",
       "      <td>14</td>\n",
       "      <td>15</td>\n",
       "    </tr>\n",
       "  </tbody>\n",
       "</table>\n",
       "</div>"
      ],
      "text/plain": [
       "          one  two  three  four\n",
       "Ohio        0    1      2     3\n",
       "Colorado    4    5      6     7\n",
       "Utah        8    9     10    11\n",
       "New York   12   13     14    15"
      ]
     },
     "execution_count": 21,
     "metadata": {},
     "output_type": "execute_result"
    }
   ],
   "source": [
    "power = pd.DataFrame(np.arange(16).reshape((4, 4)),\n",
    " index=['Ohio', 'Colorado', 'Utah', 'New York'],\n",
    " columns=['one', 'two', 'three', 'four'])\n",
    "power\n"
   ]
  },
  {
   "cell_type": "code",
   "execution_count": 34,
   "metadata": {},
   "outputs": [
    {
     "data": {
      "text/plain": [
       "Ohio        False\n",
       "Colorado     True\n",
       "Utah         True\n",
       "New York    False\n",
       "Name: three, dtype: bool"
      ]
     },
     "execution_count": 34,
     "metadata": {},
     "output_type": "execute_result"
    }
   ],
   "source": [
    "(power['three'] > 4) & (power['three'] < 11)"
   ]
  },
  {
   "cell_type": "code",
   "execution_count": 1,
   "metadata": {},
   "outputs": [
    {
     "data": {
      "text/html": [
       "<div>\n",
       "<style scoped>\n",
       "    .dataframe tbody tr th:only-of-type {\n",
       "        vertical-align: middle;\n",
       "    }\n",
       "\n",
       "    .dataframe tbody tr th {\n",
       "        vertical-align: top;\n",
       "    }\n",
       "\n",
       "    .dataframe thead th {\n",
       "        text-align: right;\n",
       "    }\n",
       "</style>\n",
       "<table border=\"1\" class=\"dataframe\">\n",
       "  <thead>\n",
       "    <tr style=\"text-align: right;\">\n",
       "      <th></th>\n",
       "      <th>key</th>\n",
       "      <th>data1</th>\n",
       "    </tr>\n",
       "  </thead>\n",
       "  <tbody>\n",
       "    <tr>\n",
       "      <th>0</th>\n",
       "      <td>b</td>\n",
       "      <td>0</td>\n",
       "    </tr>\n",
       "    <tr>\n",
       "      <th>1</th>\n",
       "      <td>b</td>\n",
       "      <td>1</td>\n",
       "    </tr>\n",
       "    <tr>\n",
       "      <th>2</th>\n",
       "      <td>a</td>\n",
       "      <td>2</td>\n",
       "    </tr>\n",
       "    <tr>\n",
       "      <th>3</th>\n",
       "      <td>c</td>\n",
       "      <td>3</td>\n",
       "    </tr>\n",
       "    <tr>\n",
       "      <th>4</th>\n",
       "      <td>a</td>\n",
       "      <td>4</td>\n",
       "    </tr>\n",
       "    <tr>\n",
       "      <th>5</th>\n",
       "      <td>b</td>\n",
       "      <td>5</td>\n",
       "    </tr>\n",
       "  </tbody>\n",
       "</table>\n",
       "</div>"
      ],
      "text/plain": [
       "  key  data1\n",
       "0   b      0\n",
       "1   b      1\n",
       "2   a      2\n",
       "3   c      3\n",
       "4   a      4\n",
       "5   b      5"
      ]
     },
     "execution_count": 1,
     "metadata": {},
     "output_type": "execute_result"
    }
   ],
   "source": [
    "import pandas as pd\n",
    "df = pd.DataFrame({'key': ['b', 'b', 'a', 'c', 'a', 'b'],'data1': range(6)})\n",
    "df"
   ]
  },
  {
   "cell_type": "code",
   "execution_count": 41,
   "metadata": {},
   "outputs": [
    {
     "data": {
      "text/plain": [
       "f    NaN\n",
       "e    2.5\n",
       "d    NaN\n",
       "c    3.5\n",
       "b    4.5\n",
       "a    NaN\n",
       "dtype: float64"
      ]
     },
     "execution_count": 41,
     "metadata": {},
     "output_type": "execute_result"
    }
   ],
   "source": [
    "import pandas as pd\n",
    "import numpy as np\n",
    "a = pd.Series ([np.nan, 2.5, np.nan,3.5, 4.5, np.nan],index = ['f','e','d','c','b','a'])\n",
    "b = pd.Series(np.arange(len(a), dtype = np.float) ,index = ['f','e','d','c','b','a'])\n",
    "b[-1] = np.nan\n",
    "a\n"
   ]
  },
  {
   "cell_type": "code",
   "execution_count": 42,
   "metadata": {},
   "outputs": [
    {
     "data": {
      "text/plain": [
       "f    0.0\n",
       "e    1.0\n",
       "d    2.0\n",
       "c    3.0\n",
       "b    4.0\n",
       "a    NaN\n",
       "dtype: float64"
      ]
     },
     "execution_count": 42,
     "metadata": {},
     "output_type": "execute_result"
    }
   ],
   "source": [
    "b"
   ]
  },
  {
   "cell_type": "code",
   "execution_count": 47,
   "metadata": {},
   "outputs": [
    {
     "data": {
      "text/plain": [
       "a    NaN\n",
       "b    4.5\n",
       "c    3.0\n",
       "d    2.0\n",
       "e    1.0\n",
       "f    0.0\n",
       "dtype: float64"
      ]
     },
     "execution_count": 47,
     "metadata": {},
     "output_type": "execute_result"
    }
   ],
   "source": [
    "b[:-2].combine_first(a[:])"
   ]
  },
  {
   "cell_type": "code",
   "execution_count": 2,
   "metadata": {},
   "outputs": [],
   "source": [
    "import networkx as nx\n",
    "edgelist = [['Mannheim', 'Frankfurt', 85], ['Mannheim', 'Karlsruhe', 80], ['Erfurt', 'Wurzburg', 186],\n",
    "            ['Munchen', 'Numberg', 167], ['Munchen', 'Augsburg', 84], ['Munchen', 'Kassel', 502], \n",
    "            ['Numberg', 'Stuttgart', 183], ['Numberg', 'Wurzburg', 103], ['Numberg', 'Munchen', 167], \n",
    "            ['Stuttgart', 'Numberg', 183], ['Augsburg', 'Munchen', 84], ['Augsburg', 'Karlsruhe', 250], \n",
    "            ['Kassel', 'Munchen', 502], ['Kassel', 'Frankfurt', 173], ['Frankfurt', 'Mannheim', 85], \n",
    "            ['Frankfurt', 'Wurzburg', 217], ['Frankfurt', 'Kassel', 173], ['Wurzburg', 'Numberg', 103], \n",
    "            ['Wurzburg', 'Erfurt', 186], ['Wurzburg', 'Frankfurt', 217], ['Karlsruhe', 'Mannheim', 80], \n",
    "            ['Karlsruhe', 'Augsburg', 250],[\"Mumbai\", \"Delhi\",400],[\"Delhi\", \"Kolkata\",500],[\"Kolkata\", \"Bangalore\",600],\n",
    "            [\"TX\", \"NY\",1200],[\"ALB\", \"NY\",800]]\n",
    "g = nx.Graph()\n",
    "for edge in edgelist:\n",
    "    g.add_edge(edge[0],edge[1], weight = edge[2])"
   ]
  },
  {
   "cell_type": "code",
   "execution_count": 13,
   "metadata": {},
   "outputs": [
    {
     "data": {
      "image/png": "[encoded data removed]",
      "text/plain": [
       "<Figure size 432x288 with 1 Axes>"
      ]
     },
     "metadata": {},
     "output_type": "display_data"
    }
   ],
   "source": [
    "nx.draw(g)"
   ]
  },
  {
   "cell_type": "code",
   "execution_count": 14,
   "metadata": {},
   "outputs": [
    {
     "name": "stdout",
     "output_type": "stream",
     "text": [
      "cc0: {'Numberg', 'Mannheim', 'Erfurt', 'Karlsruhe', 'Wurzburg', 'Augsburg', 'Kassel', 'Munchen', 'Stuttgart', 'Frankfurt'}\n",
      "cc1: {'Delhi', 'Bangalore', 'Kolkata', 'Mumbai'}\n",
      "cc2: {'ALB', 'NY', 'TX'}\n"
     ]
    }
   ],
   "source": [
    "for i, x in enumerate(nx.connected_components(g)):\n",
    "    print(\"cc\"+str(i)+\":\",x)"
   ]
  },
  {
   "cell_type": "code",
   "execution_count": 15,
   "metadata": {},
   "outputs": [
    {
     "data": {
      "text/html": [
       "<div>\n",
       "<style scoped>\n",
       "    .dataframe tbody tr th:only-of-type {\n",
       "        vertical-align: middle;\n",
       "    }\n",
       "\n",
       "    .dataframe tbody tr th {\n",
       "        vertical-align: top;\n",
       "    }\n",
       "\n",
       "    .dataframe thead th {\n",
       "        text-align: right;\n",
       "    }\n",
       "</style>\n",
       "<table border=\"1\" class=\"dataframe\">\n",
       "  <thead>\n",
       "    <tr style=\"text-align: right;\">\n",
       "      <th></th>\n",
       "      <th>team</th>\n",
       "      <th>GP</th>\n",
       "      <th>W</th>\n",
       "      <th>L</th>\n",
       "      <th>OL</th>\n",
       "      <th>PTS</th>\n",
       "      <th>PTS%</th>\n",
       "      <th>GF</th>\n",
       "      <th>GA</th>\n",
       "      <th>SRS</th>\n",
       "      <th>SOS</th>\n",
       "      <th>RPt%</th>\n",
       "      <th>ROW</th>\n",
       "      <th>year</th>\n",
       "      <th>League</th>\n",
       "    </tr>\n",
       "  </thead>\n",
       "  <tbody>\n",
       "    <tr>\n",
       "      <th>0</th>\n",
       "      <td>Atlantic Division</td>\n",
       "      <td>Atlantic Division</td>\n",
       "      <td>Atlantic Division</td>\n",
       "      <td>Atlantic Division</td>\n",
       "      <td>Atlantic Division</td>\n",
       "      <td>Atlantic Division</td>\n",
       "      <td>Atlantic Division</td>\n",
       "      <td>Atlantic Division</td>\n",
       "      <td>Atlantic Division</td>\n",
       "      <td>Atlantic Division</td>\n",
       "      <td>Atlantic Division</td>\n",
       "      <td>Atlantic Division</td>\n",
       "      <td>Atlantic Division</td>\n",
       "      <td>2018</td>\n",
       "      <td>NHL</td>\n",
       "    </tr>\n",
       "    <tr>\n",
       "      <th>1</th>\n",
       "      <td>Tampa Bay Lightning*</td>\n",
       "      <td>82</td>\n",
       "      <td>54</td>\n",
       "      <td>23</td>\n",
       "      <td>5</td>\n",
       "      <td>113</td>\n",
       "      <td>.689</td>\n",
       "      <td>296</td>\n",
       "      <td>236</td>\n",
       "      <td>0.66</td>\n",
       "      <td>-0.07</td>\n",
       "      <td>.634</td>\n",
       "      <td>48</td>\n",
       "      <td>2018</td>\n",
       "      <td>NHL</td>\n",
       "    </tr>\n",
       "    <tr>\n",
       "      <th>2</th>\n",
       "      <td>Boston Bruins*</td>\n",
       "      <td>82</td>\n",
       "      <td>50</td>\n",
       "      <td>20</td>\n",
       "      <td>12</td>\n",
       "      <td>112</td>\n",
       "      <td>.683</td>\n",
       "      <td>270</td>\n",
       "      <td>214</td>\n",
       "      <td>0.62</td>\n",
       "      <td>-0.07</td>\n",
       "      <td>.610</td>\n",
       "      <td>47</td>\n",
       "      <td>2018</td>\n",
       "      <td>NHL</td>\n",
       "    </tr>\n",
       "    <tr>\n",
       "      <th>3</th>\n",
       "      <td>Toronto Maple Leafs*</td>\n",
       "      <td>82</td>\n",
       "      <td>49</td>\n",
       "      <td>26</td>\n",
       "      <td>7</td>\n",
       "      <td>105</td>\n",
       "      <td>.640</td>\n",
       "      <td>277</td>\n",
       "      <td>232</td>\n",
       "      <td>0.49</td>\n",
       "      <td>-0.06</td>\n",
       "      <td>.567</td>\n",
       "      <td>42</td>\n",
       "      <td>2018</td>\n",
       "      <td>NHL</td>\n",
       "    </tr>\n",
       "    <tr>\n",
       "      <th>4</th>\n",
       "      <td>Florida Panthers</td>\n",
       "      <td>82</td>\n",
       "      <td>44</td>\n",
       "      <td>30</td>\n",
       "      <td>8</td>\n",
       "      <td>96</td>\n",
       "      <td>.585</td>\n",
       "      <td>248</td>\n",
       "      <td>246</td>\n",
       "      <td>-0.01</td>\n",
       "      <td>-0.04</td>\n",
       "      <td>.537</td>\n",
       "      <td>41</td>\n",
       "      <td>2018</td>\n",
       "      <td>NHL</td>\n",
       "    </tr>\n",
       "    <tr>\n",
       "      <th>...</th>\n",
       "      <td>...</td>\n",
       "      <td>...</td>\n",
       "      <td>...</td>\n",
       "      <td>...</td>\n",
       "      <td>...</td>\n",
       "      <td>...</td>\n",
       "      <td>...</td>\n",
       "      <td>...</td>\n",
       "      <td>...</td>\n",
       "      <td>...</td>\n",
       "      <td>...</td>\n",
       "      <td>...</td>\n",
       "      <td>...</td>\n",
       "      <td>...</td>\n",
       "      <td>...</td>\n",
       "    </tr>\n",
       "    <tr>\n",
       "      <th>166</th>\n",
       "      <td>Los Angeles Kings*</td>\n",
       "      <td>82</td>\n",
       "      <td>46</td>\n",
       "      <td>28</td>\n",
       "      <td>8</td>\n",
       "      <td>100</td>\n",
       "      <td>.610</td>\n",
       "      <td>206</td>\n",
       "      <td>174</td>\n",
       "      <td>0.40</td>\n",
       "      <td>0.01</td>\n",
       "      <td>.549</td>\n",
       "      <td>38</td>\n",
       "      <td>2014</td>\n",
       "      <td>NHL</td>\n",
       "    </tr>\n",
       "    <tr>\n",
       "      <th>167</th>\n",
       "      <td>Phoenix Coyotes</td>\n",
       "      <td>82</td>\n",
       "      <td>37</td>\n",
       "      <td>30</td>\n",
       "      <td>15</td>\n",
       "      <td>89</td>\n",
       "      <td>.543</td>\n",
       "      <td>216</td>\n",
       "      <td>231</td>\n",
       "      <td>-0.16</td>\n",
       "      <td>0.03</td>\n",
       "      <td>.457</td>\n",
       "      <td>31</td>\n",
       "      <td>2014</td>\n",
       "      <td>NHL</td>\n",
       "    </tr>\n",
       "    <tr>\n",
       "      <th>168</th>\n",
       "      <td>Vancouver Canucks</td>\n",
       "      <td>82</td>\n",
       "      <td>36</td>\n",
       "      <td>35</td>\n",
       "      <td>11</td>\n",
       "      <td>83</td>\n",
       "      <td>.506</td>\n",
       "      <td>196</td>\n",
       "      <td>223</td>\n",
       "      <td>-0.30</td>\n",
       "      <td>0.03</td>\n",
       "      <td>.451</td>\n",
       "      <td>31</td>\n",
       "      <td>2014</td>\n",
       "      <td>NHL</td>\n",
       "    </tr>\n",
       "    <tr>\n",
       "      <th>169</th>\n",
       "      <td>Calgary Flames</td>\n",
       "      <td>82</td>\n",
       "      <td>35</td>\n",
       "      <td>40</td>\n",
       "      <td>7</td>\n",
       "      <td>77</td>\n",
       "      <td>.470</td>\n",
       "      <td>209</td>\n",
       "      <td>241</td>\n",
       "      <td>-0.35</td>\n",
       "      <td>0.04</td>\n",
       "      <td>.402</td>\n",
       "      <td>28</td>\n",
       "      <td>2014</td>\n",
       "      <td>NHL</td>\n",
       "    </tr>\n",
       "    <tr>\n",
       "      <th>170</th>\n",
       "      <td>Edmonton Oilers</td>\n",
       "      <td>82</td>\n",
       "      <td>29</td>\n",
       "      <td>44</td>\n",
       "      <td>9</td>\n",
       "      <td>67</td>\n",
       "      <td>.409</td>\n",
       "      <td>203</td>\n",
       "      <td>270</td>\n",
       "      <td>-0.75</td>\n",
       "      <td>0.07</td>\n",
       "      <td>.348</td>\n",
       "      <td>25</td>\n",
       "      <td>2014</td>\n",
       "      <td>NHL</td>\n",
       "    </tr>\n",
       "  </tbody>\n",
       "</table>\n",
       "<p>171 rows × 15 columns</p>\n",
       "</div>"
      ],
      "text/plain": [
       "                     team                 GP                  W  \\\n",
       "0       Atlantic Division  Atlantic Division  Atlantic Division   \n",
       "1    Tampa Bay Lightning*                 82                 54   \n",
       "2          Boston Bruins*                 82                 50   \n",
       "3    Toronto Maple Leafs*                 82                 49   \n",
       "4        Florida Panthers                 82                 44   \n",
       "..                    ...                ...                ...   \n",
       "166    Los Angeles Kings*                 82                 46   \n",
       "167       Phoenix Coyotes                 82                 37   \n",
       "168     Vancouver Canucks                 82                 36   \n",
       "169        Calgary Flames                 82                 35   \n",
       "170       Edmonton Oilers                 82                 29   \n",
       "\n",
       "                     L                 OL                PTS  \\\n",
       "0    Atlantic Division  Atlantic Division  Atlantic Division   \n",
       "1                   23                  5                113   \n",
       "2                   20                 12                112   \n",
       "3                   26                  7                105   \n",
       "4                   30                  8                 96   \n",
       "..                 ...                ...                ...   \n",
       "166                 28                  8                100   \n",
       "167                 30                 15                 89   \n",
       "168                 35                 11                 83   \n",
       "169                 40                  7                 77   \n",
       "170                 44                  9                 67   \n",
       "\n",
       "                  PTS%                 GF                 GA  \\\n",
       "0    Atlantic Division  Atlantic Division  Atlantic Division   \n",
       "1                 .689                296                236   \n",
       "2                 .683                270                214   \n",
       "3                 .640                277                232   \n",
       "4                 .585                248                246   \n",
       "..                 ...                ...                ...   \n",
       "166               .610                206                174   \n",
       "167               .543                216                231   \n",
       "168               .506                196                223   \n",
       "169               .470                209                241   \n",
       "170               .409                203                270   \n",
       "\n",
       "                   SRS                SOS               RPt%  \\\n",
       "0    Atlantic Division  Atlantic Division  Atlantic Division   \n",
       "1                 0.66              -0.07               .634   \n",
       "2                 0.62              -0.07               .610   \n",
       "3                 0.49              -0.06               .567   \n",
       "4                -0.01              -0.04               .537   \n",
       "..                 ...                ...                ...   \n",
       "166               0.40               0.01               .549   \n",
       "167              -0.16               0.03               .457   \n",
       "168              -0.30               0.03               .451   \n",
       "169              -0.35               0.04               .402   \n",
       "170              -0.75               0.07               .348   \n",
       "\n",
       "                   ROW  year League  \n",
       "0    Atlantic Division  2018    NHL  \n",
       "1                   48  2018    NHL  \n",
       "2                   47  2018    NHL  \n",
       "3                   42  2018    NHL  \n",
       "4                   41  2018    NHL  \n",
       "..                 ...   ...    ...  \n",
       "166                 38  2014    NHL  \n",
       "167                 31  2014    NHL  \n",
       "168                 31  2014    NHL  \n",
       "169                 28  2014    NHL  \n",
       "170                 25  2014    NHL  \n",
       "\n",
       "[171 rows x 15 columns]"
      ]
     },
     "execution_count": 15,
     "metadata": {},
     "output_type": "execute_result"
    }
   ],
   "source": [
    "import pandas as pd\n",
    "data = pd.read_csv(\"./nhl.csv\")\n",
    "df = pd.DataFrame(data)\n",
    "df"
   ]
  },
  {
   "cell_type": "code",
   "execution_count": 20,
   "metadata": {},
   "outputs": [
    {
     "data": {
      "text/plain": [
       "{'dBASE Files': 'Microsoft Access dBASE Driver (*.dbf, *.ndx, *.mdx)',\n",
       " 'Excel Files': 'Microsoft Excel Driver (*.xls, *.xlsx, *.xlsm, *.xlsb)',\n",
       " 'MS Access Database': 'Microsoft Access Driver (*.mdb, *.accdb)'}"
      ]
     },
     "execution_count": 20,
     "metadata": {},
     "output_type": "execute_result"
    }
   ],
   "source": [
    "## Creating Dataframe from database\n",
    "Here i have created a database, "
   ]
  },
  {
   "cell_type": "code",
   "execution_count": 28,
   "metadata": {},
   "outputs": [],
   "source": [
    "import pyodbc\n",
    "pyodbc.dataSources()\n",
    "driver = '{Microsoft Access Driver (*.mdb, *.accdb)}'\n",
    "filepath = r'C:\\Users\\sk620\\OneDrive\\Desktop\\Database.accdb'\n",
    "\n",
    "# using the data source function\n",
    "myData = pyodbc.dataSources()\n",
    "access_driver = myData['MS Access Database']\n",
    "\n",
    "# makin connection.\n",
    "conn = pyodbc.connect(driver=access_driver, dbq = filepath, autocommit = True)\n",
    "crsr = conn.cursor()\n",
    "\n",
    "#grab all the tables\n",
    "tab_list = list(crsr.tables())\n",
    "tab_list\n",
    "\n",
    "table_name = 'Trading'\n",
    "\n",
    "query = \"SELECT * From {}\".format(table_name)\n",
    "\n",
    "df = pd.read_sql(query, conn)\n",
    "conn.close()"
   ]
  },
  {
   "cell_type": "code",
   "execution_count": 29,
   "metadata": {},
   "outputs": [
    {
     "data": {
      "text/html": [
       "<div>\n",
       "<style scoped>\n",
       "    .dataframe tbody tr th:only-of-type {\n",
       "        vertical-align: middle;\n",
       "    }\n",
       "\n",
       "    .dataframe tbody tr th {\n",
       "        vertical-align: top;\n",
       "    }\n",
       "\n",
       "    .dataframe thead th {\n",
       "        text-align: right;\n",
       "    }\n",
       "</style>\n",
       "<table border=\"1\" class=\"dataframe\">\n",
       "  <thead>\n",
       "    <tr style=\"text-align: right;\">\n",
       "      <th></th>\n",
       "      <th>ID</th>\n",
       "      <th>Ticker</th>\n",
       "      <th>Date</th>\n",
       "      <th>Time</th>\n",
       "      <th>Open</th>\n",
       "      <th>High</th>\n",
       "      <th>Low</th>\n",
       "      <th>Close</th>\n",
       "      <th>Volume</th>\n",
       "      <th>Year</th>\n",
       "    </tr>\n",
       "  </thead>\n",
       "  <tbody>\n",
       "    <tr>\n",
       "      <th>0</th>\n",
       "      <td>1</td>\n",
       "      <td>BANKNIFTY_F1</td>\n",
       "      <td>2015-01-01</td>\n",
       "      <td>09:20:00</td>\n",
       "      <td>18861.3496</td>\n",
       "      <td>18867.9492</td>\n",
       "      <td>18793.0000</td>\n",
       "      <td>18808.3496</td>\n",
       "      <td>84825.0</td>\n",
       "      <td>2015.0</td>\n",
       "    </tr>\n",
       "    <tr>\n",
       "      <th>1</th>\n",
       "      <td>2</td>\n",
       "      <td>BANKNIFTY_F1</td>\n",
       "      <td>2015-01-01</td>\n",
       "      <td>09:25:00</td>\n",
       "      <td>18808.0000</td>\n",
       "      <td>18835.0000</td>\n",
       "      <td>18802.1992</td>\n",
       "      <td>18829.0000</td>\n",
       "      <td>40925.0</td>\n",
       "      <td>2015.0</td>\n",
       "    </tr>\n",
       "    <tr>\n",
       "      <th>2</th>\n",
       "      <td>3</td>\n",
       "      <td>BANKNIFTY_F1</td>\n",
       "      <td>2015-01-01</td>\n",
       "      <td>09:30:00</td>\n",
       "      <td>18826.9492</td>\n",
       "      <td>18833.4004</td>\n",
       "      <td>18820.0000</td>\n",
       "      <td>18826.0996</td>\n",
       "      <td>27000.0</td>\n",
       "      <td>2015.0</td>\n",
       "    </tr>\n",
       "    <tr>\n",
       "      <th>3</th>\n",
       "      <td>4</td>\n",
       "      <td>BANKNIFTY_F1</td>\n",
       "      <td>2015-01-01</td>\n",
       "      <td>09:35:00</td>\n",
       "      <td>18825.0508</td>\n",
       "      <td>18829.0996</td>\n",
       "      <td>18810.0000</td>\n",
       "      <td>18810.0000</td>\n",
       "      <td>18025.0</td>\n",
       "      <td>2015.0</td>\n",
       "    </tr>\n",
       "    <tr>\n",
       "      <th>4</th>\n",
       "      <td>5</td>\n",
       "      <td>BANKNIFTY_F1</td>\n",
       "      <td>2015-01-01</td>\n",
       "      <td>09:40:00</td>\n",
       "      <td>18805.0000</td>\n",
       "      <td>18808.9492</td>\n",
       "      <td>18775.0000</td>\n",
       "      <td>18803.9492</td>\n",
       "      <td>60100.0</td>\n",
       "      <td>2015.0</td>\n",
       "    </tr>\n",
       "    <tr>\n",
       "      <th>...</th>\n",
       "      <td>...</td>\n",
       "      <td>...</td>\n",
       "      <td>...</td>\n",
       "      <td>...</td>\n",
       "      <td>...</td>\n",
       "      <td>...</td>\n",
       "      <td>...</td>\n",
       "      <td>...</td>\n",
       "      <td>...</td>\n",
       "      <td>...</td>\n",
       "    </tr>\n",
       "    <tr>\n",
       "      <th>91732</th>\n",
       "      <td>91733</td>\n",
       "      <td>BANKNIFTY_F1</td>\n",
       "      <td>2019-12-31</td>\n",
       "      <td>15:06:00</td>\n",
       "      <td>32398.1992</td>\n",
       "      <td>32400.0000</td>\n",
       "      <td>32382.8008</td>\n",
       "      <td>32389.0000</td>\n",
       "      <td>18900.0</td>\n",
       "      <td>2019.0</td>\n",
       "    </tr>\n",
       "    <tr>\n",
       "      <th>91733</th>\n",
       "      <td>91734</td>\n",
       "      <td>BANKNIFTY_F1</td>\n",
       "      <td>2019-12-31</td>\n",
       "      <td>15:11:00</td>\n",
       "      <td>32390.3496</td>\n",
       "      <td>32390.4004</td>\n",
       "      <td>32382.0000</td>\n",
       "      <td>32382.0000</td>\n",
       "      <td>26820.0</td>\n",
       "      <td>2019.0</td>\n",
       "    </tr>\n",
       "    <tr>\n",
       "      <th>91734</th>\n",
       "      <td>91735</td>\n",
       "      <td>BANKNIFTY_F1</td>\n",
       "      <td>2019-12-31</td>\n",
       "      <td>15:16:00</td>\n",
       "      <td>32383.5000</td>\n",
       "      <td>32386.8008</td>\n",
       "      <td>32320.0000</td>\n",
       "      <td>32320.8008</td>\n",
       "      <td>128780.0</td>\n",
       "      <td>2019.0</td>\n",
       "    </tr>\n",
       "    <tr>\n",
       "      <th>91735</th>\n",
       "      <td>91736</td>\n",
       "      <td>BANKNIFTY_F1</td>\n",
       "      <td>2019-12-31</td>\n",
       "      <td>15:21:00</td>\n",
       "      <td>32327.8008</td>\n",
       "      <td>32392.6992</td>\n",
       "      <td>32324.4492</td>\n",
       "      <td>32371.6992</td>\n",
       "      <td>80260.0</td>\n",
       "      <td>2019.0</td>\n",
       "    </tr>\n",
       "    <tr>\n",
       "      <th>91736</th>\n",
       "      <td>91737</td>\n",
       "      <td>BANKNIFTY_F1</td>\n",
       "      <td>2019-12-31</td>\n",
       "      <td>15:26:00</td>\n",
       "      <td>32365.9004</td>\n",
       "      <td>32387.0996</td>\n",
       "      <td>32360.1504</td>\n",
       "      <td>32379.9004</td>\n",
       "      <td>50260.0</td>\n",
       "      <td>2019.0</td>\n",
       "    </tr>\n",
       "  </tbody>\n",
       "</table>\n",
       "<p>91737 rows × 10 columns</p>\n",
       "</div>"
      ],
      "text/plain": [
       "          ID        Ticker       Date      Time        Open        High  \\\n",
       "0          1  BANKNIFTY_F1 2015-01-01  09:20:00  18861.3496  18867.9492   \n",
       "1          2  BANKNIFTY_F1 2015-01-01  09:25:00  18808.0000  18835.0000   \n",
       "2          3  BANKNIFTY_F1 2015-01-01  09:30:00  18826.9492  18833.4004   \n",
       "3          4  BANKNIFTY_F1 2015-01-01  09:35:00  18825.0508  18829.0996   \n",
       "4          5  BANKNIFTY_F1 2015-01-01  09:40:00  18805.0000  18808.9492   \n",
       "...      ...           ...        ...       ...         ...         ...   \n",
       "91732  91733  BANKNIFTY_F1 2019-12-31  15:06:00  32398.1992  32400.0000   \n",
       "91733  91734  BANKNIFTY_F1 2019-12-31  15:11:00  32390.3496  32390.4004   \n",
       "91734  91735  BANKNIFTY_F1 2019-12-31  15:16:00  32383.5000  32386.8008   \n",
       "91735  91736  BANKNIFTY_F1 2019-12-31  15:21:00  32327.8008  32392.6992   \n",
       "91736  91737  BANKNIFTY_F1 2019-12-31  15:26:00  32365.9004  32387.0996   \n",
       "\n",
       "              Low       Close    Volume    Year  \n",
       "0      18793.0000  18808.3496   84825.0  2015.0  \n",
       "1      18802.1992  18829.0000   40925.0  2015.0  \n",
       "2      18820.0000  18826.0996   27000.0  2015.0  \n",
       "3      18810.0000  18810.0000   18025.0  2015.0  \n",
       "4      18775.0000  18803.9492   60100.0  2015.0  \n",
       "...           ...         ...       ...     ...  \n",
       "91732  32382.8008  32389.0000   18900.0  2019.0  \n",
       "91733  32382.0000  32382.0000   26820.0  2019.0  \n",
       "91734  32320.0000  32320.8008  128780.0  2019.0  \n",
       "91735  32324.4492  32371.6992   80260.0  2019.0  \n",
       "91736  32360.1504  32379.9004   50260.0  2019.0  \n",
       "\n",
       "[91737 rows x 10 columns]"
      ]
     },
     "execution_count": 29,
     "metadata": {},
     "output_type": "execute_result"
    }
   ],
   "source": [
    " df"
   ]
  },
  {
   "cell_type": "code",
   "execution_count": 3,
   "metadata": {},
   "outputs": [
    {
     "output_type": "execute_result",
     "data": {
      "text/plain": [
       "                                CountryCode         Slug  NewConfirmed  \\\n",
       "Country                                                                  \n",
       "Afghanistan                              AF  afghanistan             0   \n",
       "Albania                                  AL      albania             0   \n",
       "Algeria                                  DZ      algeria             0   \n",
       "Andorra                                  AD      andorra             0   \n",
       "Angola                                   AO       angola             0   \n",
       "...                                     ...          ...           ...   \n",
       "Venezuela (Bolivarian Republic)          VE    venezuela             0   \n",
       "Viet Nam                                 VN      vietnam             0   \n",
       "Yemen                                    YE        yemen             0   \n",
       "Zambia                                   ZM       zambia             0   \n",
       "Zimbabwe                                 ZW     zimbabwe             0   \n",
       "\n",
       "                                 TotalConfirmed  NewDeaths  TotalDeaths  \\\n",
       "Country                                                                   \n",
       "Afghanistan                              120216          0         4962   \n",
       "Albania                                  132535          0         2456   \n",
       "Algeria                                  141471          0         3755   \n",
       "Andorra                                   13918          0          127   \n",
       "Angola                                    39230          0          913   \n",
       "...                                         ...        ...          ...   \n",
       "Venezuela (Bolivarian Republic)          277635          0         3190   \n",
       "Viet Nam                                  20261          0           86   \n",
       "Yemen                                      6929          0         1361   \n",
       "Zambia                                   164282          0         2443   \n",
       "Zimbabwe                                  54474          0         1878   \n",
       "\n",
       "                                 NewRecovered  TotalRecovered  \\\n",
       "Country                                                         \n",
       "Afghanistan                                 0           74480   \n",
       "Albania                                     0          130027   \n",
       "Algeria                                     0           98387   \n",
       "Andorra                                     0           13721   \n",
       "Angola                                      0           33669   \n",
       "...                                       ...             ...   \n",
       "Venezuela (Bolivarian Republic)             0          258954   \n",
       "Viet Nam                                    0            7819   \n",
       "Yemen                                       0            4104   \n",
       "Zambia                                      0          143128   \n",
       "Zimbabwe                                    0           40239   \n",
       "\n",
       "                                                    Date Premium  \n",
       "Country                                                           \n",
       "Afghanistan                      2021-07-05T11:41:07.41Z      {}  \n",
       "Albania                          2021-07-05T11:41:07.41Z      {}  \n",
       "Algeria                          2021-07-05T11:41:07.41Z      {}  \n",
       "Andorra                          2021-07-05T11:41:07.41Z      {}  \n",
       "Angola                           2021-07-05T11:41:07.41Z      {}  \n",
       "...                                                  ...     ...  \n",
       "Venezuela (Bolivarian Republic)  2021-07-05T11:41:07.41Z      {}  \n",
       "Viet Nam                         2021-07-05T11:41:07.41Z      {}  \n",
       "Yemen                            2021-07-05T11:41:07.41Z      {}  \n",
       "Zambia                           2021-07-05T11:41:07.41Z      {}  \n",
       "Zimbabwe                         2021-07-05T11:41:07.41Z      {}  \n",
       "\n",
       "[192 rows x 10 columns]"
      ],
      "text/html": "<div>\n<style scoped>\n    .dataframe tbody tr th:only-of-type {\n        vertical-align: middle;\n    }\n\n    .dataframe tbody tr th {\n        vertical-align: top;\n    }\n\n    .dataframe thead th {\n        text-align: right;\n    }\n</style>\n<table border=\"1\" class=\"dataframe\">\n  <thead>\n    <tr style=\"text-align: right;\">\n      <th></th>\n      <th>CountryCode</th>\n      <th>Slug</th>\n      <th>NewConfirmed</th>\n      <th>TotalConfirmed</th>\n      <th>NewDeaths</th>\n      <th>TotalDeaths</th>\n      <th>NewRecovered</th>\n      <th>TotalRecovered</th>\n      <th>Date</th>\n      <th>Premium</th>\n    </tr>\n    <tr>\n      <th>Country</th>\n      <th></th>\n      <th></th>\n      <th></th>\n      <th></th>\n      <th></th>\n      <th></th>\n      <th></th>\n      <th></th>\n      <th></th>\n      <th></th>\n    </tr>\n  </thead>\n  <tbody>\n    <tr>\n      <th>Afghanistan</th>\n      <td>AF</td>\n      <td>afghanistan</td>\n      <td>0</td>\n      <td>120216</td>\n      <td>0</td>\n      <td>4962</td>\n      <td>0</td>\n      <td>74480</td>\n      <td>2021-07-05T11:41:07.41Z</td>\n      <td>{}</td>\n    </tr>\n    <tr>\n      <th>Albania</th>\n      <td>AL</td>\n      <td>albania</td>\n      <td>0</td>\n      <td>132535</td>\n      <td>0</td>\n      <td>2456</td>\n      <td>0</td>\n      <td>130027</td>\n      <td>2021-07-05T11:41:07.41Z</td>\n      <td>{}</td>\n    </tr>\n    <tr>\n      <th>Algeria</th>\n      <td>DZ</td>\n      <td>algeria</td>\n      <td>0</td>\n      <td>141471</td>\n      <td>0</td>\n      <td>3755</td>\n      <td>0</td>\n      <td>98387</td>\n      <td>2021-07-05T11:41:07.41Z</td>\n      <td>{}</td>\n    </tr>\n    <tr>\n      <th>Andorra</th>\n      <td>AD</td>\n      <td>andorra</td>\n      <td>0</td>\n      <td>13918</td>\n      <td>0</td>\n      <td>127</td>\n      <td>0</td>\n      <td>13721</td>\n      <td>2021-07-05T11:41:07.41Z</td>\n      <td>{}</td>\n    </tr>\n    <tr>\n      <th>Angola</th>\n      <td>AO</td>\n      <td>angola</td>\n      <td>0</td>\n      <td>39230</td>\n      <td>0</td>\n      <td>913</td>\n      <td>0</td>\n      <td>33669</td>\n      <td>2021-07-05T11:41:07.41Z</td>\n      <td>{}</td>\n    </tr>\n    <tr>\n      <th>...</th>\n      <td>...</td>\n      <td>...</td>\n      <td>...</td>\n      <td>...</td>\n      <td>...</td>\n      <td>...</td>\n      <td>...</td>\n      <td>...</td>\n      <td>...</td>\n      <td>...</td>\n    </tr>\n    <tr>\n      <th>Venezuela (Bolivarian Republic)</th>\n      <td>VE</td>\n      <td>venezuela</td>\n      <td>0</td>\n      <td>277635</td>\n      <td>0</td>\n      <td>3190</td>\n      <td>0</td>\n      <td>258954</td>\n      <td>2021-07-05T11:41:07.41Z</td>\n      <td>{}</td>\n    </tr>\n    <tr>\n      <th>Viet Nam</th>\n      <td>VN</td>\n      <td>vietnam</td>\n      <td>0</td>\n      <td>20261</td>\n      <td>0</td>\n      <td>86</td>\n      <td>0</td>\n      <td>7819</td>\n      <td>2021-07-05T11:41:07.41Z</td>\n      <td>{}</td>\n    </tr>\n    <tr>\n      <th>Yemen</th>\n      <td>YE</td>\n      <td>yemen</td>\n      <td>0</td>\n      <td>6929</td>\n      <td>0</td>\n      <td>1361</td>\n      <td>0</td>\n      <td>4104</td>\n      <td>2021-07-05T11:41:07.41Z</td>\n      <td>{}</td>\n    </tr>\n    <tr>\n      <th>Zambia</th>\n      <td>ZM</td>\n      <td>zambia</td>\n      <td>0</td>\n      <td>164282</td>\n      <td>0</td>\n      <td>2443</td>\n      <td>0</td>\n      <td>143128</td>\n      <td>2021-07-05T11:41:07.41Z</td>\n      <td>{}</td>\n    </tr>\n    <tr>\n      <th>Zimbabwe</th>\n      <td>ZW</td>\n      <td>zimbabwe</td>\n      <td>0</td>\n      <td>54474</td>\n      <td>0</td>\n      <td>1878</td>\n      <td>0</td>\n      <td>40239</td>\n      <td>2021-07-05T11:41:07.41Z</td>\n      <td>{}</td>\n    </tr>\n  </tbody>\n</table>\n<p>192 rows × 10 columns</p>\n</div>"
     },
     "metadata": {},
     "execution_count": 3
    }
   ],
   "source": [
    "import pandas as pd\n",
    "import requests\n",
    "\n",
    "# setting variable url to our target api.\n",
    "url = \"https://api.covid19api.com/summary\"\n",
    "\n",
    "# we are making a GET request from the API.\n",
    "r = requests.get(url)\n",
    "\n",
    "# Extracting json structure from the request.\n",
    "json = r.json()\n",
    "\n",
    "# transform the json to data frames. \n",
    "df = pd.DataFrame(json['Countries'])\n",
    "\n",
    "df = df.drop(labels = 'ID', axis = 1)\n",
    "df_with_country = df.set_index(\"Country\")\n",
    "df_with_country"
   ]
  },
  {
   "cell_type": "code",
   "execution_count": 4,
   "metadata": {},
   "outputs": [
    {
     "output_type": "execute_result",
     "data": {
      "text/plain": [
       "       NewConfirmed  TotalConfirmed   NewDeaths    TotalDeaths  NewRecovered  \\\n",
       "count    192.000000    1.920000e+02  192.000000     192.000000    192.000000   \n",
       "mean     864.739583    9.558397e+05   18.807292   20700.307292    857.734375   \n",
       "std     4677.213749    3.638961e+06  107.830628   70544.635655   5642.197932   \n",
       "min        0.000000    0.000000e+00    0.000000       0.000000      0.000000   \n",
       "25%        0.000000    1.345625e+04    0.000000     171.000000      0.000000   \n",
       "50%        0.000000    1.101970e+05    0.000000    1632.000000      0.000000   \n",
       "75%        0.000000    4.324650e+05    0.000000    8469.750000      0.000000   \n",
       "max    39796.000000    3.371757e+07  830.000000  605526.000000  58383.000000   \n",
       "\n",
       "       TotalRecovered  \n",
       "count    1.920000e+02  \n",
       "mean     6.293537e+05  \n",
       "std      2.564201e+06  \n",
       "min      0.000000e+00  \n",
       "25%      8.402750e+03  \n",
       "50%      6.803650e+04  \n",
       "75%      3.336410e+05  \n",
       "max      2.970043e+07  "
      ],
      "text/html": "<div>\n<style scoped>\n    .dataframe tbody tr th:only-of-type {\n        vertical-align: middle;\n    }\n\n    .dataframe tbody tr th {\n        vertical-align: top;\n    }\n\n    .dataframe thead th {\n        text-align: right;\n    }\n</style>\n<table border=\"1\" class=\"dataframe\">\n  <thead>\n    <tr style=\"text-align: right;\">\n      <th></th>\n      <th>NewConfirmed</th>\n      <th>TotalConfirmed</th>\n      <th>NewDeaths</th>\n      <th>TotalDeaths</th>\n      <th>NewRecovered</th>\n      <th>TotalRecovered</th>\n    </tr>\n  </thead>\n  <tbody>\n    <tr>\n      <th>count</th>\n      <td>192.000000</td>\n      <td>1.920000e+02</td>\n      <td>192.000000</td>\n      <td>192.000000</td>\n      <td>192.000000</td>\n      <td>1.920000e+02</td>\n    </tr>\n    <tr>\n      <th>mean</th>\n      <td>864.739583</td>\n      <td>9.558397e+05</td>\n      <td>18.807292</td>\n      <td>20700.307292</td>\n      <td>857.734375</td>\n      <td>6.293537e+05</td>\n    </tr>\n    <tr>\n      <th>std</th>\n      <td>4677.213749</td>\n      <td>3.638961e+06</td>\n      <td>107.830628</td>\n      <td>70544.635655</td>\n      <td>5642.197932</td>\n      <td>2.564201e+06</td>\n    </tr>\n    <tr>\n      <th>min</th>\n      <td>0.000000</td>\n      <td>0.000000e+00</td>\n      <td>0.000000</td>\n      <td>0.000000</td>\n      <td>0.000000</td>\n      <td>0.000000e+00</td>\n    </tr>\n    <tr>\n      <th>25%</th>\n      <td>0.000000</td>\n      <td>1.345625e+04</td>\n      <td>0.000000</td>\n      <td>171.000000</td>\n      <td>0.000000</td>\n      <td>8.402750e+03</td>\n    </tr>\n    <tr>\n      <th>50%</th>\n      <td>0.000000</td>\n      <td>1.101970e+05</td>\n      <td>0.000000</td>\n      <td>1632.000000</td>\n      <td>0.000000</td>\n      <td>6.803650e+04</td>\n    </tr>\n    <tr>\n      <th>75%</th>\n      <td>0.000000</td>\n      <td>4.324650e+05</td>\n      <td>0.000000</td>\n      <td>8469.750000</td>\n      <td>0.000000</td>\n      <td>3.336410e+05</td>\n    </tr>\n    <tr>\n      <th>max</th>\n      <td>39796.000000</td>\n      <td>3.371757e+07</td>\n      <td>830.000000</td>\n      <td>605526.000000</td>\n      <td>58383.000000</td>\n      <td>2.970043e+07</td>\n    </tr>\n  </tbody>\n</table>\n</div>"
     },
     "metadata": {},
     "execution_count": 4
    }
   ],
   "source": [
    "df_with_country.describe()"
   ]
  },
  {
   "cell_type": "code",
   "execution_count": 5,
   "metadata": {},
   "outputs": [
    {
     "output_type": "execute_result",
     "data": {
      "text/plain": [
       "Date\n",
       "2021-07-05T11:41:07.41Z    3974459\n",
       "Name: TotalDeaths, dtype: int64"
      ]
     },
     "metadata": {},
     "execution_count": 5
    }
   ],
   "source": [
    "df_with_country.groupby('Date')['TotalDeaths'].sum()"
   ]
  },
  {
   "cell_type": "code",
   "execution_count": 6,
   "metadata": {},
   "outputs": [
    {
     "output_type": "execute_result",
     "data": {
      "text/plain": [
       "(192, 10)"
      ]
     },
     "metadata": {},
     "execution_count": 6
    }
   ],
   "source": [
    "df_with_country.shape"
   ]
  },
  {
   "cell_type": "code",
   "execution_count": 58,
   "metadata": {},
   "outputs": [
    {
     "data": {
      "text/plain": [
       "CountryCode       object\n",
       "Slug              object\n",
       "NewConfirmed       int64\n",
       "TotalConfirmed     int64\n",
       "NewDeaths          int64\n",
       "TotalDeaths        int64\n",
       "NewRecovered       int64\n",
       "TotalRecovered     int64\n",
       "Date              object\n",
       "Premium           object\n",
       "dtype: object"
      ]
     },
     "execution_count": 58,
     "metadata": {},
     "output_type": "execute_result"
    }
   ],
   "source": [
    "df_with_country.dtypes"
   ]
  },
  {
   "cell_type": "code",
   "execution_count": 7,
   "metadata": {},
   "outputs": [
    {
     "output_type": "execute_result",
     "data": {
      "text/plain": [
       "Index(['CountryCode', 'Slug', 'NewConfirmed', 'TotalConfirmed', 'NewDeaths',\n",
       "       'TotalDeaths', 'NewRecovered', 'TotalRecovered', 'Date', 'Premium'],\n",
       "      dtype='object')"
      ]
     },
     "metadata": {},
     "execution_count": 7
    }
   ],
   "source": [
    "df_with_country.columns"
   ]
  },
  {
   "source": [
    "## Accessing Data from pandas data structure"
   ],
   "cell_type": "markdown",
   "metadata": {}
  },
  {
   "cell_type": "code",
   "execution_count": 10,
   "metadata": {},
   "outputs": [
    {
     "output_type": "execute_result",
     "data": {
      "text/plain": [
       "CountryCode                            IN\n",
       "Slug                                india\n",
       "NewConfirmed                        39796\n",
       "TotalConfirmed                   30585229\n",
       "NewDeaths                             723\n",
       "TotalDeaths                        402728\n",
       "NewRecovered                        42352\n",
       "TotalRecovered                   29700430\n",
       "Date              2021-07-05T11:41:07.41Z\n",
       "Premium                                {}\n",
       "Name: India, dtype: object"
      ]
     },
     "metadata": {},
     "execution_count": 10
    }
   ],
   "source": [
    "df_with_country.loc[\"India\"]"
   ]
  },
  {
   "cell_type": "code",
   "execution_count": 11,
   "metadata": {},
   "outputs": [
    {
     "output_type": "execute_result",
     "data": {
      "text/plain": [
       "CountryCode                            BB\n",
       "Slug                             barbados\n",
       "NewConfirmed                            0\n",
       "TotalConfirmed                       4086\n",
       "NewDeaths                               0\n",
       "TotalDeaths                            47\n",
       "NewRecovered                            0\n",
       "TotalRecovered                       4008\n",
       "Date              2021-07-05T11:41:07.41Z\n",
       "Premium                                {}\n",
       "Name: Barbados, dtype: object"
      ]
     },
     "metadata": {},
     "execution_count": 11
    }
   ],
   "source": [
    "df_with_country.iloc[14]"
   ]
  },
  {
   "cell_type": "code",
   "execution_count": 12,
   "metadata": {},
   "outputs": [
    {
     "output_type": "execute_result",
     "data": {
      "text/plain": [
       "            CountryCode         Slug  NewConfirmed  TotalConfirmed  NewDeaths  \\\n",
       "Country                                                                         \n",
       "Afghanistan          AF  afghanistan             0          120216          0   \n",
       "Albania              AL      albania             0          132535          0   \n",
       "Algeria              DZ      algeria             0          141471          0   \n",
       "Andorra              AD      andorra             0           13918          0   \n",
       "Angola               AO       angola             0           39230          0   \n",
       "\n",
       "             TotalDeaths  NewRecovered  TotalRecovered  \\\n",
       "Country                                                  \n",
       "Afghanistan         4962             0           74480   \n",
       "Albania             2456             0          130027   \n",
       "Algeria             3755             0           98387   \n",
       "Andorra              127             0           13721   \n",
       "Angola               913             0           33669   \n",
       "\n",
       "                                Date Premium  \n",
       "Country                                       \n",
       "Afghanistan  2021-07-05T11:41:07.41Z      {}  \n",
       "Albania      2021-07-05T11:41:07.41Z      {}  \n",
       "Algeria      2021-07-05T11:41:07.41Z      {}  \n",
       "Andorra      2021-07-05T11:41:07.41Z      {}  \n",
       "Angola       2021-07-05T11:41:07.41Z      {}  "
      ],
      "text/html": "<div>\n<style scoped>\n    .dataframe tbody tr th:only-of-type {\n        vertical-align: middle;\n    }\n\n    .dataframe tbody tr th {\n        vertical-align: top;\n    }\n\n    .dataframe thead th {\n        text-align: right;\n    }\n</style>\n<table border=\"1\" class=\"dataframe\">\n  <thead>\n    <tr style=\"text-align: right;\">\n      <th></th>\n      <th>CountryCode</th>\n      <th>Slug</th>\n      <th>NewConfirmed</th>\n      <th>TotalConfirmed</th>\n      <th>NewDeaths</th>\n      <th>TotalDeaths</th>\n      <th>NewRecovered</th>\n      <th>TotalRecovered</th>\n      <th>Date</th>\n      <th>Premium</th>\n    </tr>\n    <tr>\n      <th>Country</th>\n      <th></th>\n      <th></th>\n      <th></th>\n      <th></th>\n      <th></th>\n      <th></th>\n      <th></th>\n      <th></th>\n      <th></th>\n      <th></th>\n    </tr>\n  </thead>\n  <tbody>\n    <tr>\n      <th>Afghanistan</th>\n      <td>AF</td>\n      <td>afghanistan</td>\n      <td>0</td>\n      <td>120216</td>\n      <td>0</td>\n      <td>4962</td>\n      <td>0</td>\n      <td>74480</td>\n      <td>2021-07-05T11:41:07.41Z</td>\n      <td>{}</td>\n    </tr>\n    <tr>\n      <th>Albania</th>\n      <td>AL</td>\n      <td>albania</td>\n      <td>0</td>\n      <td>132535</td>\n      <td>0</td>\n      <td>2456</td>\n      <td>0</td>\n      <td>130027</td>\n      <td>2021-07-05T11:41:07.41Z</td>\n      <td>{}</td>\n    </tr>\n    <tr>\n      <th>Algeria</th>\n      <td>DZ</td>\n      <td>algeria</td>\n      <td>0</td>\n      <td>141471</td>\n      <td>0</td>\n      <td>3755</td>\n      <td>0</td>\n      <td>98387</td>\n      <td>2021-07-05T11:41:07.41Z</td>\n      <td>{}</td>\n    </tr>\n    <tr>\n      <th>Andorra</th>\n      <td>AD</td>\n      <td>andorra</td>\n      <td>0</td>\n      <td>13918</td>\n      <td>0</td>\n      <td>127</td>\n      <td>0</td>\n      <td>13721</td>\n      <td>2021-07-05T11:41:07.41Z</td>\n      <td>{}</td>\n    </tr>\n    <tr>\n      <th>Angola</th>\n      <td>AO</td>\n      <td>angola</td>\n      <td>0</td>\n      <td>39230</td>\n      <td>0</td>\n      <td>913</td>\n      <td>0</td>\n      <td>33669</td>\n      <td>2021-07-05T11:41:07.41Z</td>\n      <td>{}</td>\n    </tr>\n  </tbody>\n</table>\n</div>"
     },
     "metadata": {},
     "execution_count": 12
    }
   ],
   "source": [
    "df_with_country[:5]"
   ]
  },
  {
   "cell_type": "code",
   "execution_count": 15,
   "metadata": {},
   "outputs": [
    {
     "output_type": "execute_result",
     "data": {
      "text/plain": [
       "      A    B    C    D\n",
       "0    A0   B0   C0   D0\n",
       "1    A1   B1   C1   D1\n",
       "2    A2   B2   C2   D2\n",
       "3    A3   B3   C3   D3\n",
       "4    A4   B4   C4   D4\n",
       "5    A5   B5   C5   D5\n",
       "6    A6   B6   C6   D6\n",
       "7    A7   B7   C7   D7\n",
       "8    A8   B8   C8   D8\n",
       "9    A9   B9   C9   D9\n",
       "10  A10  B10  C10  D10\n",
       "11  A11  B11  C11  D11"
      ],
      "text/html": "<div>\n<style scoped>\n    .dataframe tbody tr th:only-of-type {\n        vertical-align: middle;\n    }\n\n    .dataframe tbody tr th {\n        vertical-align: top;\n    }\n\n    .dataframe thead th {\n        text-align: right;\n    }\n</style>\n<table border=\"1\" class=\"dataframe\">\n  <thead>\n    <tr style=\"text-align: right;\">\n      <th></th>\n      <th>A</th>\n      <th>B</th>\n      <th>C</th>\n      <th>D</th>\n    </tr>\n  </thead>\n  <tbody>\n    <tr>\n      <th>0</th>\n      <td>A0</td>\n      <td>B0</td>\n      <td>C0</td>\n      <td>D0</td>\n    </tr>\n    <tr>\n      <th>1</th>\n      <td>A1</td>\n      <td>B1</td>\n      <td>C1</td>\n      <td>D1</td>\n    </tr>\n    <tr>\n      <th>2</th>\n      <td>A2</td>\n      <td>B2</td>\n      <td>C2</td>\n      <td>D2</td>\n    </tr>\n    <tr>\n      <th>3</th>\n      <td>A3</td>\n      <td>B3</td>\n      <td>C3</td>\n      <td>D3</td>\n    </tr>\n    <tr>\n      <th>4</th>\n      <td>A4</td>\n      <td>B4</td>\n      <td>C4</td>\n      <td>D4</td>\n    </tr>\n    <tr>\n      <th>5</th>\n      <td>A5</td>\n      <td>B5</td>\n      <td>C5</td>\n      <td>D5</td>\n    </tr>\n    <tr>\n      <th>6</th>\n      <td>A6</td>\n      <td>B6</td>\n      <td>C6</td>\n      <td>D6</td>\n    </tr>\n    <tr>\n      <th>7</th>\n      <td>A7</td>\n      <td>B7</td>\n      <td>C7</td>\n      <td>D7</td>\n    </tr>\n    <tr>\n      <th>8</th>\n      <td>A8</td>\n      <td>B8</td>\n      <td>C8</td>\n      <td>D8</td>\n    </tr>\n    <tr>\n      <th>9</th>\n      <td>A9</td>\n      <td>B9</td>\n      <td>C9</td>\n      <td>D9</td>\n    </tr>\n    <tr>\n      <th>10</th>\n      <td>A10</td>\n      <td>B10</td>\n      <td>C10</td>\n      <td>D10</td>\n    </tr>\n    <tr>\n      <th>11</th>\n      <td>A11</td>\n      <td>B11</td>\n      <td>C11</td>\n      <td>D11</td>\n    </tr>\n  </tbody>\n</table>\n</div>"
     },
     "metadata": {},
     "execution_count": 15
    }
   ],
   "source": [
    "df1 = pd.DataFrame({\"A\": [\"A0\", \"A1\", \"A2\", \"A3\"],\"B\": [\"B0\", \"B1\", \"B2\", \"B3\"],\n",
    "        \"C\": [\"C0\", \"C1\", \"C2\", \"C3\"],\"D\": [\"D0\", \"D1\", \"D2\", \"D3\"],},index=[0, 1, 2, 3],)\n",
    "df2 = pd.DataFrame({\"A\": [\"A4\", \"A5\", \"A6\", \"A7\"],\"B\": [\"B4\", \"B5\", \"B6\", \"B7\"],\n",
    "            \"C\": [\"C4\", \"C5\", \"C6\", \"C7\"],\"D\": [\"D4\", \"D5\", \"D6\", \"D7\"],},index=[4, 5, 6, 7],)\n",
    "df3 = pd.DataFrame({ \"A\": [\"A8\", \"A9\", \"A10\", \"A11\"],\"B\": [\"B8\", \"B9\", \"B10\", \"B11\"],\n",
    "            \"C\": [\"C8\", \"C9\", \"C10\", \"C11\"],\"D\": [\"D8\", \"D9\", \"D10\", \"D11\"],},index=[8, 9, 10, 11],)\n",
    "frames = [df1, df2, df3]\n",
    "result = pd.concat(frames)\n",
    "result"
   ]
  },
  {
   "cell_type": "code",
   "execution_count": 14,
   "metadata": {},
   "outputs": [
    {
     "output_type": "execute_result",
     "data": {
      "text/plain": [
       "      A    B    C    D\n",
       "0    A0   B0   C0   D0\n",
       "1    A1   B1   C1   D1\n",
       "2    A2   B2   C2   D2\n",
       "3    A3   B3   C3   D3\n",
       "4    A4   B4   C4   D4\n",
       "5    A5   B5   C5   D5\n",
       "6    A6   B6   C6   D6\n",
       "7    A7   B7   C7   D7\n",
       "8    A8   B8   C8   D8\n",
       "9    A9   B9   C9   D9\n",
       "10  A10  B10  C10  D10\n",
       "11  A11  B11  C11  D11"
      ],
      "text/html": "<div>\n<style scoped>\n    .dataframe tbody tr th:only-of-type {\n        vertical-align: middle;\n    }\n\n    .dataframe tbody tr th {\n        vertical-align: top;\n    }\n\n    .dataframe thead th {\n        text-align: right;\n    }\n</style>\n<table border=\"1\" class=\"dataframe\">\n  <thead>\n    <tr style=\"text-align: right;\">\n      <th></th>\n      <th>A</th>\n      <th>B</th>\n      <th>C</th>\n      <th>D</th>\n    </tr>\n  </thead>\n  <tbody>\n    <tr>\n      <th>0</th>\n      <td>A0</td>\n      <td>B0</td>\n      <td>C0</td>\n      <td>D0</td>\n    </tr>\n    <tr>\n      <th>1</th>\n      <td>A1</td>\n      <td>B1</td>\n      <td>C1</td>\n      <td>D1</td>\n    </tr>\n    <tr>\n      <th>2</th>\n      <td>A2</td>\n      <td>B2</td>\n      <td>C2</td>\n      <td>D2</td>\n    </tr>\n    <tr>\n      <th>3</th>\n      <td>A3</td>\n      <td>B3</td>\n      <td>C3</td>\n      <td>D3</td>\n    </tr>\n    <tr>\n      <th>4</th>\n      <td>A4</td>\n      <td>B4</td>\n      <td>C4</td>\n      <td>D4</td>\n    </tr>\n    <tr>\n      <th>5</th>\n      <td>A5</td>\n      <td>B5</td>\n      <td>C5</td>\n      <td>D5</td>\n    </tr>\n    <tr>\n      <th>6</th>\n      <td>A6</td>\n      <td>B6</td>\n      <td>C6</td>\n      <td>D6</td>\n    </tr>\n    <tr>\n      <th>7</th>\n      <td>A7</td>\n      <td>B7</td>\n      <td>C7</td>\n      <td>D7</td>\n    </tr>\n    <tr>\n      <th>8</th>\n      <td>A8</td>\n      <td>B8</td>\n      <td>C8</td>\n      <td>D8</td>\n    </tr>\n    <tr>\n      <th>9</th>\n      <td>A9</td>\n      <td>B9</td>\n      <td>C9</td>\n      <td>D9</td>\n    </tr>\n    <tr>\n      <th>10</th>\n      <td>A10</td>\n      <td>B10</td>\n      <td>C10</td>\n      <td>D10</td>\n    </tr>\n    <tr>\n      <th>11</th>\n      <td>A11</td>\n      <td>B11</td>\n      <td>C11</td>\n      <td>D11</td>\n    </tr>\n  </tbody>\n</table>\n</div>"
     },
     "metadata": {},
     "execution_count": 14
    }
   ],
   "source": []
  },
  {
   "cell_type": "code",
   "execution_count": null,
   "metadata": {},
   "outputs": [],
   "source": []
  }
 ],
 "metadata": {
  "kernelspec": {
   "name": "python3",
   "display_name": "Python 3.8.2 64-bit"
  },
  "language_info": {
   "codemirror_mode": {
    "name": "ipython",
    "version": 3
   },
   "file_extension": ".py",
   "mimetype": "text/x-python",
   "name": "python",
   "nbconvert_exporter": "python",
   "pygments_lexer": "ipython3",
   "version": "3.8.2"
  },
  "interpreter": {
   "hash": "ad5b3d8dfeb079dc9f66b1dd4ac75013ad4218385395e732a2b1b7c9db083633"
  }
 },
 "nbformat": 4,
 "nbformat_minor": 4
}