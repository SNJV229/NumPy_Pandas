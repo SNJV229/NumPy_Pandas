{
 "metadata": {
  "language_info": {
   "codemirror_mode": {
    "name": "ipython",
    "version": 3
   },
   "file_extension": ".py",
   "mimetype": "text/x-python",
   "name": "python",
   "nbconvert_exporter": "python",
   "pygments_lexer": "ipython3",
   "version": "3.8.2"
  },
  "orig_nbformat": 4,
  "kernelspec": {
   "name": "python3",
   "display_name": "Python 3.8.2 64-bit"
  },
  "interpreter": {
   "hash": "ad5b3d8dfeb079dc9f66b1dd4ac75013ad4218385395e732a2b1b7c9db083633"
  }
 },
 "nbformat": 4,
 "nbformat_minor": 2,
 "cells": [
  {
   "source": [
    "## Array Indexing\n",
    "Array indexing is nothing but it is simply accessing the array of the numpy array.\n",
    "The values of the numpy array 'x' can be accessed by using the index 'i' as x\\[i\\].\n",
    "Below is the example:-"
   ],
   "cell_type": "markdown",
   "metadata": {}
  },
  {
   "cell_type": "code",
   "execution_count": 1,
   "metadata": {},
   "outputs": [
    {
     "output_type": "stream",
     "name": "stdout",
     "text": [
      "5\n"
     ]
    }
   ],
   "source": [
    "import numpy as np\n",
    "x = np.array([0, 1, 2, 3, 4, 5, 6, 7, 8, 9, 10, 11, 12])\n",
    "print(x[5])"
   ]
  },
  {
   "source": [
    "For accessing the value from the 2d array we use the comma-separated index i, j as rows and column values respectively."
   ],
   "cell_type": "markdown",
   "metadata": {}
  },
  {
   "cell_type": "code",
   "execution_count": 4,
   "metadata": {},
   "outputs": [
    {
     "output_type": "stream",
     "name": "stdout",
     "text": [
      "5th element on 2st row:  10\n"
     ]
    }
   ],
   "source": [
    "x = np.array([[1,2,3,4,5], [6,7,8,9,10]])\n",
    "print('5th element on 2st row: ', x[1, 4])"
   ]
  },
  {
   "source": [
    "And similarly, for accessing the 3d array we use comma-separated indexes i, j, k representing the dimensions of the array. below is the example:-"
   ],
   "cell_type": "markdown",
   "metadata": {}
  },
  {
   "cell_type": "code",
   "execution_count": 5,
   "metadata": {},
   "outputs": [
    {
     "output_type": "stream",
     "name": "stdout",
     "text": [
      "6\n"
     ]
    }
   ],
   "source": [
    "x = np.array([[[1, 2, 3], [4, 5, 6]], [[7, 8, 9], [10, 11, 12]]])\n",
    "print(x[0, 1, 2])"
   ]
  },
  {
   "source": [
    "## Array Slicing:-\n",
    "In NumPy, Slicing is a process of extracting the values between the given indexes from the NumPy arrays.\n",
    "Slicing is done by passing the index values inside the square bracket with a semicolon like this \\[start:end\\] and we can also give steps like \\[start:end:step]."
   ],
   "cell_type": "markdown",
   "metadata": {}
  },
  {
   "cell_type": "code",
   "execution_count": 7,
   "metadata": {},
   "outputs": [
    {
     "output_type": "stream",
     "name": "stdout",
     "text": [
      "[2 3 4 5 6 7]\n"
     ]
    }
   ],
   "source": [
    "x = np.array([1, 2, 3, 4, 5, 6, 7, 8, 9, 10])\n",
    "print(x[1:7])"
   ]
  },
  {
   "cell_type": "code",
   "execution_count": 8,
   "metadata": {},
   "outputs": [
    {
     "output_type": "stream",
     "name": "stdout",
     "text": [
      "[2 3 5]\n"
     ]
    }
   ],
   "source": [
    "x = np.array([2, 3, 5, 6, 7, 9, 10])\n",
    "print(x[:3])"
   ]
  },
  {
   "cell_type": "code",
   "execution_count": 9,
   "metadata": {},
   "outputs": [
    {
     "output_type": "stream",
     "name": "stdout",
     "text": [
      "[2 4]\n"
     ]
    }
   ],
   "source": [
    "x = np.array([1, 2, 3, 4, 5, 6, 7])\n",
    "print(x[1:5:2])"
   ]
  },
  {
   "source": [
    "For Slicing in 2d NumPy array, we use comma-separated slicing indexes like"
   ],
   "cell_type": "markdown",
   "metadata": {}
  },
  {
   "cell_type": "code",
   "execution_count": 10,
   "metadata": {},
   "outputs": [
    {
     "output_type": "stream",
     "name": "stdout",
     "text": [
      "[7 8]\n"
     ]
    }
   ],
   "source": [
    "x = np.array([[1, 2, 3, 4, 5], [6, 7, 8, 9, 10]])\n",
    "print(x[1, 1:3])"
   ]
  },
  {
   "cell_type": "code",
   "execution_count": 11,
   "metadata": {},
   "outputs": [
    {
     "output_type": "stream",
     "name": "stdout",
     "text": [
      "[[2 3 4]\n [7 8 9]]\n"
     ]
    }
   ],
   "source": [
    "x = np.array([[1, 2, 3, 4, 5], [6, 7, 8, 9, 10]])\n",
    "print(x[0:2, 1:4])"
   ]
  },
  {
   "source": [
    "## Memory Layout of ndarray:-\n",
    "In memory, ndarray are stored as contiguous data. We have freedom of choice in how to arrange the array elements in this memory segment. Consider the case of a two-dimensional array, containing rows and columns:\n",
    "The former is called row-major format and the latter is column-major format.\n",
    "A NumPy array can be stored in the row-major format, using the keyword argument order='C', and in the column-major format, using the keyword argument order='F'."
   ],
   "cell_type": "markdown",
   "metadata": {}
  },
  {
   "cell_type": "code",
   "execution_count": 12,
   "metadata": {},
   "outputs": [],
   "source": [
    "xc = np.array([[1, 2, 3], [4, 5, 6], [7, 8, 9]], \n",
    "                dtype='uint8', order='C')\n",
    "xf = np.array([[1, 2, 3], [4, 5, 6], [7, 8, 9]], \n",
    "                dtype='uint8', order='F')"
   ]
  },
  {
   "cell_type": "code",
   "execution_count": 13,
   "metadata": {},
   "outputs": [
    {
     "output_type": "execute_result",
     "data": {
      "text/plain": [
       "array([[1, 2, 3],\n",
       "       [4, 5, 6],\n",
       "       [7, 8, 9]], dtype=uint8)"
      ]
     },
     "metadata": {},
     "execution_count": 13
    }
   ],
   "source": [
    "xc"
   ]
  },
  {
   "cell_type": "code",
   "execution_count": 15,
   "metadata": {},
   "outputs": [
    {
     "output_type": "execute_result",
     "data": {
      "text/plain": [
       "'1  2  3  4  5  6  7  8  9'"
      ]
     },
     "metadata": {},
     "execution_count": 15
    }
   ],
   "source": [
    "'  '.join(str(x) for x in np.nditer(xc))"
   ]
  },
  {
   "cell_type": "code",
   "execution_count": 14,
   "metadata": {},
   "outputs": [
    {
     "output_type": "execute_result",
     "data": {
      "text/plain": [
       "array([[1, 2, 3],\n",
       "       [4, 5, 6],\n",
       "       [7, 8, 9]], dtype=uint8)"
      ]
     },
     "metadata": {},
     "execution_count": 14
    }
   ],
   "source": [
    "xf"
   ]
  },
  {
   "cell_type": "code",
   "execution_count": 16,
   "metadata": {},
   "outputs": [
    {
     "output_type": "execute_result",
     "data": {
      "text/plain": [
       "'1  4  7  2  5  8  3  6  9'"
      ]
     },
     "metadata": {},
     "execution_count": 16
    }
   ],
   "source": [
    "'  '.join(str(x) for x in np.nditer(xf))"
   ]
  },
  {
   "source": [
    "## Views and Copies:-\n",
    "Copy is just the new copy of the original array. Any change to the copy will not affect the original array and any change done in the original will not affect the copy.\n",
    "While View is only the view of the original array it does not own the, if we make a change in the original array, it also reflects in view.\n"
   ],
   "cell_type": "markdown",
   "metadata": {}
  },
  {
   "cell_type": "code",
   "execution_count": 18,
   "metadata": {},
   "outputs": [
    {
     "output_type": "stream",
     "name": "stdout",
     "text": [
      "[10 42 30 40 50]\n[10 20 30 40 50]\n"
     ]
    }
   ],
   "source": [
    "import numpy as np\n",
    "\n",
    "array = np.array([10, 20, 30, 40, 50])\n",
    "x = array.copy()\n",
    "array[1] = 42\n",
    "\n",
    "print(array)\n",
    "print(x)"
   ]
  },
  {
   "cell_type": "code",
   "execution_count": 19,
   "metadata": {},
   "outputs": [
    {
     "output_type": "stream",
     "name": "stdout",
     "text": [
      "[10 42 30 40 50]\n[10 42 30 40 50]\n"
     ]
    }
   ],
   "source": [
    "array = np.array([10, 20, 30, 40, 50])\n",
    "x = array.view()\n",
    "array[1] = 42\n",
    "\n",
    "print(array)\n",
    "print(x)"
   ]
  },
  {
   "source": [
    "## Creating Array and Array Data type:-\n",
    "The array is created in NumPy by using the array() function. And to get the data type of the array we use the type() function."
   ],
   "cell_type": "markdown",
   "metadata": {}
  },
  {
   "cell_type": "code",
   "execution_count": 20,
   "metadata": {},
   "outputs": [
    {
     "output_type": "error",
     "ename": "NameError",
     "evalue": "name 'arr' is not defined",
     "traceback": [
      "\u001b[1;31m---------------------------------------------------------------------------\u001b[0m",
      "\u001b[1;31mNameError\u001b[0m                                 Traceback (most recent call last)",
      "\u001b[1;32m<ipython-input-20-416024e04813>\u001b[0m in \u001b[0;36m<module>\u001b[1;34m\u001b[0m\n\u001b[0;32m      1\u001b[0m \u001b[0marray\u001b[0m \u001b[1;33m=\u001b[0m \u001b[0mnp\u001b[0m\u001b[1;33m.\u001b[0m\u001b[0marray\u001b[0m\u001b[1;33m(\u001b[0m\u001b[1;33m[\u001b[0m\u001b[1;36m1\u001b[0m\u001b[1;33m,\u001b[0m \u001b[1;36m2\u001b[0m\u001b[1;33m,\u001b[0m \u001b[1;36m3\u001b[0m\u001b[1;33m,\u001b[0m \u001b[1;36m4\u001b[0m\u001b[1;33m,\u001b[0m \u001b[1;36m5\u001b[0m\u001b[1;33m]\u001b[0m\u001b[1;33m)\u001b[0m\u001b[1;33m\u001b[0m\u001b[1;33m\u001b[0m\u001b[0m\n\u001b[1;32m----> 2\u001b[1;33m \u001b[0mprint\u001b[0m\u001b[1;33m(\u001b[0m\u001b[0marr\u001b[0m\u001b[1;33m)\u001b[0m\u001b[1;33m\u001b[0m\u001b[1;33m\u001b[0m\u001b[0m\n\u001b[0m\u001b[0;32m      3\u001b[0m \u001b[0mprint\u001b[0m\u001b[1;33m(\u001b[0m\u001b[0mtype\u001b[0m\u001b[1;33m(\u001b[0m\u001b[0marr\u001b[0m\u001b[1;33m)\u001b[0m\u001b[1;33m)\u001b[0m\u001b[1;33m\u001b[0m\u001b[1;33m\u001b[0m\u001b[0m\n",
      "\u001b[1;31mNameError\u001b[0m: name 'arr' is not defined"
     ]
    }
   ],
   "source": [
    "array = np.array([1, 2, 3, 4, 5])\n",
    "print(array)\n",
    "print(type(array))"
   ]
  },
  {
   "cell_type": "code",
   "execution_count": null,
   "metadata": {},
   "outputs": [],
   "source": []
  }
 ]
}