{
 "metadata": {
  "language_info": {
   "codemirror_mode": {
    "name": "ipython",
    "version": 3
   },
   "file_extension": ".py",
   "mimetype": "text/x-python",
   "name": "python",
   "nbconvert_exporter": "python",
   "pygments_lexer": "ipython3",
   "version": "3.8.2"
  },
  "orig_nbformat": 4,
  "kernelspec": {
   "name": "python3",
   "display_name": "Python 3.8.2 64-bit"
  },
  "interpreter": {
   "hash": "ad5b3d8dfeb079dc9f66b1dd4ac75013ad4218385395e732a2b1b7c9db083633"
  }
 },
 "nbformat": 4,
 "nbformat_minor": 2,
 "cells": [
  {
   "source": [
    "# The Scientific python - Scipy\n",
    "\n",
    "In python, scipy is an open source scientific computation library that uses Numpy. It provodes convenient and fastes N-dimensional array manuplation. It is used for solving scientific, mathematical and engineering related problem statements. It also provides utility functions for optimization, stats and signal processing. You must have thought that why scipy? we have Numpy for this stuff. So the answer for your this question is that the scipy provides more optimized and added functionalities that are frequently used in Numpy and Data Science. NumPy provides a number of functions that can help resolve linear algebra, Fourier transforms, etc, but SciPy is the library that actually contains fully-featured versions of all these functions along with many others scientific features."
   ],
   "cell_type": "markdown",
   "metadata": {}
  },
  {
   "source": [
    "## Installation and import:-"
   ],
   "cell_type": "markdown",
   "metadata": {}
  },
  {
   "cell_type": "code",
   "execution_count": 2,
   "metadata": {},
   "outputs": [
    {
     "output_type": "stream",
     "name": "stdout",
     "text": [
      "Requirement already satisfied: scipy in c:\\users\\sk620\\appdata\\local\\programs\\python\\python38\\lib\\site-packages (1.5.2)\nRequirement already satisfied: numpy>=1.14.5 in c:\\users\\sk620\\appdata\\local\\programs\\python\\python38\\lib\\site-packages (from scipy) (1.18.2)\n"
     ]
    }
   ],
   "source": [
    "!pip install scipy"
   ]
  },
  {
   "cell_type": "code",
   "execution_count": 5,
   "metadata": {},
   "outputs": [
    {
     "output_type": "stream",
     "name": "stdout",
     "text": [
      "Help on package scipy.cluster in scipy:\n\nNAME\n    scipy.cluster\n\nDESCRIPTION\n    =========================================\n    Clustering package (:mod:`scipy.cluster`)\n    =========================================\n    \n    .. currentmodule:: scipy.cluster\n    \n    :mod:`scipy.cluster.vq`\n    \n    Clustering algorithms are useful in information theory, target detection,\n    communications, compression, and other areas. The `vq` module only\n    supports vector quantization and the k-means algorithms.\n    \n    :mod:`scipy.cluster.hierarchy`\n    \n    The `hierarchy` module provides functions for hierarchical and\n    agglomerative clustering.  Its features include generating hierarchical\n    clusters from distance matrices,\n    calculating statistics on clusters, cutting linkages\n    to generate flat clusters, and visualizing clusters with dendrograms.\n\nPACKAGE CONTENTS\n    _hierarchy\n    _optimal_leaf_ordering\n    _vq\n    hierarchy\n    setup\n    tests (package)\n    vq\n\nDATA\n    __all__ = ['vq', 'hierarchy']\n\nFILE\n    c:\\users\\sk620\\appdata\\local\\programs\\python\\python38\\lib\\site-packages\\scipy\\cluster\\__init__.py\n\n\n"
     ]
    }
   ],
   "source": [
    "from scipy import cluster \n",
    "help(cluster) #with parameter "
   ]
  },
  {
   "source": [
    "## Exponential and Trigonometric Functions:"
   ],
   "cell_type": "markdown",
   "metadata": {}
  },
  {
   "cell_type": "code",
   "execution_count": 7,
   "metadata": {},
   "outputs": [
    {
     "output_type": "stream",
     "name": "stdout",
     "text": [
      "100000.0\n1.0\n0.7071067811865475\n"
     ]
    }
   ],
   "source": [
    "from scipy import special\n",
    "x = special.exp10(5)    # Gives exponents\n",
    "print(x)\n",
    " \n",
    "y = special.sindg(90)    # Gives Sine value of 90 degree\n",
    "print(y)\n",
    " \n",
    "d = special.cosdg(45)    # Gives cosine value of 45 degree\n",
    "print(d)"
   ]
  },
  {
   "cell_type": "code",
   "execution_count": 2,
   "metadata": {},
   "outputs": [
    {
     "output_type": "stream",
     "name": "stdout",
     "text": [
      "3.141592653589793\n1e+21\n1e+18\n1000000000.0\n1000000.0\n1000.0\n100.0\n60.0\n86400.0\n0.017453292519943295\n101325.0\n100000.0\n"
     ]
    }
   ],
   "source": [
    "from scipy import constants\n",
    "\n",
    "# gives pi value.\n",
    "print(constants.pi)\n",
    "\n",
    "# gives metric prefixes in meters\n",
    "print(constants.zetta)    #1e+21\n",
    "print(constants.exa)      #1e+18\n",
    "print(constants.giga)     #1000000000.0\n",
    "print(constants.mega)     #1000000.0\n",
    "print(constants.kilo)     #1000.0\n",
    "print(constants.hecto)    #100.0\n",
    "\n",
    "# gives times in seconds\n",
    "print(constants.minute)\n",
    "print(constants.day)\n",
    "\n",
    "# gives Angles in Radian\n",
    "print(constants.degree)\n",
    "\n",
    "# gives pressure in pascals\n",
    "print(constants.atm)\n",
    "print(constants.bar) "
   ]
  },
  {
   "cell_type": "code",
   "execution_count": 1,
   "metadata": {},
   "outputs": [
    {
     "output_type": "stream",
     "name": "stdout",
     "text": [
      "(array([1., 0., 3.]), array([    1, -9999,     0]))\n"
     ]
    }
   ],
   "source": [
    "import numpy as np\n",
    "from scipy.sparse.csgraph import dijkstra\n",
    "from scipy.sparse import csr_matrix\n",
    "\n",
    "arr = np.array([\n",
    "  [0, 1, 2],\n",
    "  [1, 0, 0],\n",
    "  [2, 0, 0]\n",
    "])\n",
    "\n",
    "newarr = csr_matrix(arr)\n",
    "\n",
    "print(dijkstra(newarr, return_predecessors=True, indices=1))\n",
    "\n",
    "# return_predecessors: takes boolean(True to return whole path of traversal otherwise False).\n",
    "# indices: index of the element to return all paths from that element only."
   ]
  },
  {
   "cell_type": "code",
   "execution_count": 4,
   "metadata": {},
   "outputs": [
    {
     "output_type": "stream",
     "name": "stdout",
     "text": [
      "(array([2., 1., 0.]), array([    2,     0, -9999]))\n"
     ]
    }
   ],
   "source": [
    "import numpy as np\n",
    "from scipy.sparse.csgraph import bellman_ford\n",
    "from scipy.sparse import csr_matrix\n",
    "\n",
    "arr = np.array([\n",
    "  [0, -1, 2],\n",
    "  [1, 0, 0],\n",
    "  [2, 0, 0]\n",
    "])\n",
    "\n",
    "newarr = csr_matrix(arr)\n",
    "\n",
    "print(bellman_ford(newarr, return_predecessors=True, indices=2))"
   ]
  },
  {
   "source": [
    "## Linear Algebra:-"
   ],
   "cell_type": "markdown",
   "metadata": {}
  },
  {
   "cell_type": "code",
   "execution_count": 6,
   "metadata": {},
   "outputs": [
    {
     "output_type": "execute_result",
     "data": {
      "text/plain": [
       "3.0"
      ]
     },
     "metadata": {},
     "execution_count": 6
    }
   ],
   "source": [
    "import numpy as np\n",
    "from scipy import linalg\n",
    "\n",
    "A = np.array([[1,2,3],[4,5,6],[7,8,8]])\n",
    "linalg.det(A) # Find the determinant of a matrix."
   ]
  },
  {
   "cell_type": "code",
   "execution_count": 7,
   "metadata": {},
   "outputs": [
    {
     "output_type": "stream",
     "name": "stdout",
     "text": [
      "[15.55528261+0.j -1.41940876+0.j -0.13587385+0.j]\n[[-0.24043423 -0.67468642  0.51853459]\n [-0.54694322 -0.23391616 -0.78895962]\n [-0.80190056  0.70005819  0.32964312]]\n"
     ]
    }
   ],
   "source": [
    "eigen_values, eigen_vectors = linalg.eig(A)\n",
    "print(eigen_values)   # Gives Eigen Value\n",
    "print(eigen_vectors)  # Gives Eigen Vector"
   ]
  },
  {
   "source": [
    "## Integration:-"
   ],
   "cell_type": "markdown",
   "metadata": {}
  },
  {
   "cell_type": "code",
   "execution_count": 8,
   "metadata": {},
   "outputs": [
    {
     "output_type": "stream",
     "name": "stdout",
     "text": [
      "(0.7468241328124271, 8.291413475940725e-15)\n"
     ]
    }
   ],
   "source": [
    "import scipy.integrate\n",
    "f= lambda x:np.exp(-x**2)\n",
    "i = scipy.integrate.quad(f, 0, 1) # Gives Single Integrations\n",
    "print(i) "
   ]
  },
  {
   "cell_type": "code",
   "execution_count": 9,
   "metadata": {},
   "outputs": [
    {
     "output_type": "stream",
     "name": "stdout",
     "text": [
      "(0.6666666666666667, 7.401486830834377e-15)\n"
     ]
    }
   ],
   "source": [
    "from scipy import integrate\n",
    "f = lambda y, x: x*y**2\n",
    "i = integrate.dblquad(f, 0, 2, lambda x: 0, lambda x: 1) \n",
    "print(i) # Gives Double Integrations"
   ]
  },
  {
   "cell_type": "code",
   "execution_count": null,
   "metadata": {},
   "outputs": [],
   "source": []
  }
 ]
}